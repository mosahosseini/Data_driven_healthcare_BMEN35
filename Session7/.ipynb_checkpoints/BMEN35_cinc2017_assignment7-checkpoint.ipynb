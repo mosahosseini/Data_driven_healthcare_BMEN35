{
 "cells": [
  {
   "cell_type": "markdown",
   "metadata": {
    "colab_type": "text",
    "id": "view-in-github"
   },
   "source": [
    "<a href=\"https://colab.research.google.com/github/antfolk/BMEN35_2023/blob/main/Session7/BMEN35_cinc2017_assignment7.ipynb\" target=\"_parent\"><img src=\"https://colab.research.google.com/assets/colab-badge.svg\" alt=\"Open In Colab\"/></a>"
   ]
  },
  {
   "cell_type": "markdown",
   "metadata": {
    "id": "iWv_CZz8PI2G"
   },
   "source": [
    "# Assignment 7\n",
    "## Fill in your name below\n",
    "-- <font color = Green> Mosa Hosseini </font>\n",
    "\n",
    "## Your mission is now the following:\n",
    "\n",
    "You will use data from the Computing in Cardiology challenge 2017 (as was explained in the lectures) (https://physionet.org/content/challenge-2017/1.0.0/). **Take your time to read the page**. The training set contains data from more that 8000 recordings. There are four classes / labels in the datasets (Normal, AF (Atrial Fibrillation), Other rhytm, Noisy). The validation contains data from 300 recordings.\n",
    "\n",
    "**You will download a zip-file from the Canvas-page for the assignment**. The zip-file contains six files:\n",
    "\n",
    "*   cinc2017_features_training.csv\n",
    "*   cinc2017_features_validation.csv\n",
    "*   cinc2017_raw_train.csv **(Very large file)**\n",
    "*   cinc2017_raw_validation.csv\n",
    "*   cinc2017_labels_train.csv\n",
    "*   cinc2017_labels_validation.csv\n",
    "*   andreotti_et_al.h5\n",
    "\n",
    "You can choose to make a model based on \"features\" and or a deep learning model based on the \"raw\" data. There is a premade/pretrained model that you can load and look at for inspiration (andreotti_et_al.h5). It is rather large. Perhaps you can get similar scores with a simpler model.\n",
    "\n",
    "You can find more information on the features and the model (andreotti_et_al.h5) in this paper https://www.cinc.org/archives/2017/pdf/360-239.pdf\n",
    "\n",
    "You also need to implement the scoring according to the webpage. The final score is the **average f1 score**. For this you might want to check out the classification_report and confusion_matrix in sklearn.\n",
    "\n",
    "For this assignment there is more data than in the other. If you choose to go for a deep learning model, be prepared for longer training times.\n",
    "\n",
    "If you look through the other notebooks, you will find how to load csv files and all other things you need for this assignment.\n",
    "\n",
    "You can have a look at the leaderboard on the webpage to see what scores the contestants where able to get.\n",
    "\n",
    "Try atleast three models and see what scores you can get with each model. If you perform some hyperparameter optimization, make sure you don't use the validation set for this. The validation set is for getting the final scores only.\n",
    "\n",
    "You will start by importing some of the usual suspects. You know what to do know."
   ]
  },
  {
   "cell_type": "code",
   "execution_count": 80,
   "metadata": {},
   "outputs": [],
   "source": [
    "import csv\n",
    "import numpy as np\n",
    "def open_csv_file(file_name):\n",
    "    rows = []\n",
    "    with open(file_name, 'r') as file:\n",
    "        csvreader = csv.reader(file)\n",
    "        header = next(csvreader)\n",
    "        for row in csvreader:\n",
    "            rows.append(row)\n",
    "    return np.array(rows)\n"
   ]
  },
  {
   "cell_type": "code",
   "execution_count": 82,
   "metadata": {},
   "outputs": [],
   "source": [
    "X_train= open_csv_file(\"cinc2017_features_training.csv\")\n",
    "y_train = open_csv_file(\"cinc2017_labels_training.csv\")\n",
    "X_val = open_csv_file(\"cinc2017_features_validation.csv\")\n",
    "y_val = open_csv_file(\"cinc2017_labels_validation.csv\")\n"
   ]
  },
  {
   "cell_type": "code",
   "execution_count": 83,
   "metadata": {
    "scrolled": true
   },
   "outputs": [
    {
     "data": {
      "text/plain": [
       "(8527, 2704)"
      ]
     },
     "execution_count": 83,
     "metadata": {},
     "output_type": "execute_result"
    }
   ],
   "source": [
    "X_train.shape"
   ]
  },
  {
   "cell_type": "code",
   "execution_count": 84,
   "metadata": {},
   "outputs": [
    {
     "data": {
      "text/plain": [
       "(299, 2704)"
      ]
     },
     "execution_count": 84,
     "metadata": {},
     "output_type": "execute_result"
    }
   ],
   "source": [
    "X_val.shape"
   ]
  },
  {
   "cell_type": "code",
   "execution_count": 88,
   "metadata": {
    "id": "wp9QE5AePILm"
   },
   "outputs": [],
   "source": [
    "from matplotlib import pyplot as plt\n",
    "from matplotlib import pyplot as plt\n",
    "def get_freq(y):\n",
    "    plt.figure\n",
    "    labels =['Normal', 'AF' , 'Other rhytm', 'Noisylabels' ]\n",
    "    frequency_dict = {}\n",
    "    for i,label in enumerate(labels):\n",
    "        frequency_dict[label] = sum(y==i)\n",
    "    \n",
    "    plt.bar(list(frequency_dict.keys()) , list(frequency_dict.values()))\n",
    "    plt.show()"
   ]
  },
  {
   "cell_type": "markdown",
   "metadata": {},
   "source": [
    "## Examine the number of samples in the training set"
   ]
  },
  {
   "cell_type": "code",
   "execution_count": 89,
   "metadata": {},
   "outputs": [
    {
     "data": {
      "image/png": "[encoded data removed]",
      "text/plain": [
       "<Figure size 640x480 with 1 Axes>"
      ]
     },
     "metadata": {},
     "output_type": "display_data"
    }
   ],
   "source": [
    "d = get_freq(y_train[:,0] )\n",
    "\n",
    "## Normal and noisy labels have not so many samples in training data"
   ]
  },
  {
   "cell_type": "code",
   "execution_count": 90,
   "metadata": {},
   "outputs": [
    {
     "data": {
      "image/png": "[encoded data removed]",
      "text/plain": [
       "<Figure size 640x480 with 1 Axes>"
      ]
     },
     "metadata": {},
     "output_type": "display_data"
    }
   ],
   "source": [
    "d = get_freq(y_val[:,0] )"
   ]
  },
  {
   "cell_type": "code",
   "execution_count": 91,
   "metadata": {},
   "outputs": [],
   "source": [
    "from sklearn.metrics import classification_report, confusion_matrix\n",
    "import tensorflow"
   ]
  },
  {
   "cell_type": "markdown",
   "metadata": {},
   "source": [
    "## Examin wether scaling is needed or not. "
   ]
  },
  {
   "cell_type": "code",
   "execution_count": 101,
   "metadata": {},
   "outputs": [
    {
     "name": "stdout",
     "output_type": "stream",
     "text": [
      "mean of features of each sample  [ 0.08120906 -0.04626346  0.04546653 ... -0.06333596 -0.02410482\n",
      " -0.04219028]\n",
      "----------------------------------------------------------------\n",
      "variance of features of each sample [0.60940003 0.14398925 0.28014836 ... 0.12947719 0.2156689  0.17062424]\n"
     ]
    }
   ],
   "source": [
    "#mean zero ? yes\n",
    "print(\"mean of features of each sample \",np.mean(X_train, axis=1) )\n",
    "print(\"----------------------------------------------------------------\")\n",
    "print(\"variance of features of each sample\" ,np.var( X_train, axis=1) )"
   ]
  },
  {
   "cell_type": "code",
   "execution_count": 122,
   "metadata": {},
   "outputs": [],
   "source": [
    "import tensorflow as tf\n",
    "from tensorflow.keras.models import Sequential\n",
    "from tensorflow.keras.layers import Dense ,Dropout,GRU\n",
    "from tensorflow.keras.layers import LSTM , Input\n"
   ]
  },
  {
   "cell_type": "code",
   "execution_count": 127,
   "metadata": {},
   "outputs": [],
   "source": [
    "from tensorflow.keras.utils import to_categorical\n",
    "y_train= to_categorical(y_train)\n",
    "y_val = to_categorical(y_val)"
   ]
  },
  {
   "cell_type": "markdown",
   "metadata": {},
   "source": [
    "# Deep model"
   ]
  },
  {
   "cell_type": "code",
   "execution_count": 176,
   "metadata": {},
   "outputs": [
    {
     "name": "stdout",
     "output_type": "stream",
     "text": [
      "Model: \"sequential_26\"\n",
      "_________________________________________________________________\n",
      " Layer (type)                Output Shape              Param #   \n",
      "=================================================================\n",
      " dense_97 (Dense)            (None, 1024)              2769920   \n",
      "                                                                 \n",
      " dropout_30 (Dropout)        (None, 1024)              0         \n",
      "                                                                 \n",
      " dense_98 (Dense)            (None, 512)               524800    \n",
      "                                                                 \n",
      " dropout_31 (Dropout)        (None, 512)               0         \n",
      "                                                                 \n",
      " dense_99 (Dense)            (None, 264)               135432    \n",
      "                                                                 \n",
      " dropout_32 (Dropout)        (None, 264)               0         \n",
      "                                                                 \n",
      " dense_100 (Dense)           (None, 128)               33920     \n",
      "                                                                 \n",
      " dropout_33 (Dropout)        (None, 128)               0         \n",
      "                                                                 \n",
      " dense_101 (Dense)           (None, 64)                8256      \n",
      "                                                                 \n",
      " dense_102 (Dense)           (None, 4)                 260       \n",
      "                                                                 \n",
      "=================================================================\n",
      "Total params: 3,472,588\n",
      "Trainable params: 3,472,588\n",
      "Non-trainable params: 0\n",
      "_________________________________________________________________\n",
      "Epoch 1/100\n",
      "69/69 [==============================] - 3s 24ms/step - loss: 0.6653 - accuracy: 0.7556 - val_loss: 0.8275 - val_accuracy: 0.7625\n",
      "Epoch 2/100\n",
      "69/69 [==============================] - 1s 18ms/step - loss: 0.5929 - accuracy: 0.8142 - val_loss: 0.9425 - val_accuracy: 0.7625\n",
      "Epoch 3/100\n",
      "69/69 [==============================] - 1s 18ms/step - loss: 0.5685 - accuracy: 0.8267 - val_loss: 0.8374 - val_accuracy: 0.7793\n",
      "Epoch 4/100\n",
      "69/69 [==============================] - 1s 19ms/step - loss: 0.6631 - accuracy: 0.8421 - val_loss: 0.9274 - val_accuracy: 0.7625\n",
      "Epoch 5/100\n",
      "69/69 [==============================] - 1s 18ms/step - loss: 0.7102 - accuracy: 0.8576 - val_loss: 0.7630 - val_accuracy: 0.7860\n",
      "Epoch 6/100\n",
      "69/69 [==============================] - 1s 18ms/step - loss: 0.5445 - accuracy: 0.8641 - val_loss: 0.7192 - val_accuracy: 0.8161\n",
      "Epoch 7/100\n",
      "69/69 [==============================] - 1s 20ms/step - loss: 0.4163 - accuracy: 0.8764 - val_loss: 1.0033 - val_accuracy: 0.7759\n",
      "Epoch 8/100\n",
      "69/69 [==============================] - 1s 19ms/step - loss: 0.4034 - accuracy: 0.8866 - val_loss: 0.8523 - val_accuracy: 0.7860\n",
      "Epoch 9/100\n",
      "69/69 [==============================] - 1s 19ms/step - loss: 0.3450 - accuracy: 0.8909 - val_loss: 0.7617 - val_accuracy: 0.7926\n",
      "Epoch 10/100\n",
      "69/69 [==============================] - 1s 19ms/step - loss: 0.3411 - accuracy: 0.8988 - val_loss: 1.0145 - val_accuracy: 0.7893\n",
      "Epoch 11/100\n",
      "69/69 [==============================] - 1s 19ms/step - loss: 0.2913 - accuracy: 0.9093 - val_loss: 0.7128 - val_accuracy: 0.8227\n",
      "Epoch 12/100\n",
      "69/69 [==============================] - 1s 19ms/step - loss: 0.2756 - accuracy: 0.9181 - val_loss: 0.9662 - val_accuracy: 0.8227\n",
      "Epoch 13/100\n",
      "69/69 [==============================] - 1s 19ms/step - loss: 0.2358 - accuracy: 0.9220 - val_loss: 1.2338 - val_accuracy: 0.7860\n",
      "Epoch 14/100\n",
      "69/69 [==============================] - 1s 19ms/step - loss: 0.2541 - accuracy: 0.9269 - val_loss: 1.1086 - val_accuracy: 0.7759\n",
      "Epoch 15/100\n",
      "69/69 [==============================] - 1s 19ms/step - loss: 0.2361 - accuracy: 0.9294 - val_loss: 0.8174 - val_accuracy: 0.7993\n",
      "Epoch 16/100\n",
      "69/69 [==============================] - 1s 19ms/step - loss: 0.1901 - accuracy: 0.9348 - val_loss: 1.0332 - val_accuracy: 0.8094\n"
     ]
    },
    {
     "data": {
      "text/plain": [
       "<keras.callbacks.History at 0x20da8375810>"
      ]
     },
     "execution_count": 176,
     "metadata": {},
     "output_type": "execute_result"
    }
   ],
   "source": [
    "# create and fit the LSTM network\n",
    "input_shape = X_train.shape[1]\n",
    "model = Sequential()\n",
    "#model.add(LSTM(32, input_shape=input_shape ,return_sequences=True) )\n",
    "model.add(Input(shape = (input_shape,)))\n",
    "#model.add(Dense(input_shape, activation='relu'))\n",
    "model.add(Dense(1024, activation='relu'))\n",
    "model.add(Dropout(0.2))\n",
    "model.add(Dense(512, activation='relu'))\n",
    "model.add(Dropout(0.1))\n",
    "model.add(Dense(264, activation='relu'))\n",
    "model.add(Dropout(0.1))\n",
    "model.add(Dense(128, activation='relu'))\n",
    "model.add(Dropout(0.1))\n",
    "model.add(Dense(64, activation='relu'))\n",
    "model.add(Dense(4, activation='softmax'))\n",
    "optim = tf.keras.optimizers.Adam(learning_rate=0.001)\n",
    "model.compile(loss='categorical_crossentropy' , optimizer=optim , metrics=[\"accuracy\"])\n",
    "model.summary()\n",
    "callback = tf.keras.callbacks.EarlyStopping(monitor='val_accuracy', patience=5)\n",
    "model.fit(X_train, y_train,validation_data=(X_val,y_val),  epochs=100, batch_size=124, verbose=1 , callbacks = [callback])"
   ]
  },
  {
   "cell_type": "markdown",
   "metadata": {},
   "source": [
    "# Lstm "
   ]
  },
  {
   "cell_type": "code",
   "execution_count": 155,
   "metadata": {},
   "outputs": [
    {
     "name": "stdout",
     "output_type": "stream",
     "text": [
      "Model: \"model_1\"\n",
      "_________________________________________________________________\n",
      " Layer (type)                Output Shape              Param #   \n",
      "=================================================================\n",
      " input_18 (InputLayer)       [(None, 52, 52)]          0         \n",
      "                                                                 \n",
      " lstm_10 (LSTM)              (None, 52, 52)            21840     \n",
      "                                                                 \n",
      " flatten_1 (Flatten)         (None, 2704)              0         \n",
      "                                                                 \n",
      " dropout_27 (Dropout)        (None, 2704)              0         \n",
      "                                                                 \n",
      " dense_93 (Dense)            (None, 264)               714120    \n",
      "                                                                 \n",
      " dropout_28 (Dropout)        (None, 264)               0         \n",
      "                                                                 \n",
      " dense_94 (Dense)            (None, 124)               32860     \n",
      "                                                                 \n",
      " dropout_29 (Dropout)        (None, 124)               0         \n",
      "                                                                 \n",
      " dense_95 (Dense)            (None, 64)                8000      \n",
      "                                                                 \n",
      " dense_96 (Dense)            (None, 4)                 260       \n",
      "                                                                 \n",
      "=================================================================\n",
      "Total params: 777,080\n",
      "Trainable params: 777,080\n",
      "Non-trainable params: 0\n",
      "_________________________________________________________________\n"
     ]
    }
   ],
   "source": [
    "X_trin_mat = X_train.reshape([len(X_train) , 52,52])\n",
    "X_val_mat = X_val.reshape([len(X_val), 52,52])\n",
    "inputs = tf.keras.Input(shape=(52,52))\n",
    "X = tf.keras.layers.LSTM(52,return_sequences=True)(inputs)\n",
    "X = tf.keras.layers.Flatten()(X)\n",
    "X = tf.keras.layers.Dropout(0.2)(X)\n",
    "X = tf.keras.layers.Dense(264, activation=tf.nn.relu)(X)\n",
    "X = tf.keras.layers.Dropout(0.1)(X)\n",
    "X = tf.keras.layers.Dense(124, activation=tf.nn.relu)(X)\n",
    "X = tf.keras.layers.Dropout(0.1)(X)\n",
    "X = tf.keras.layers.Dense(64, activation=tf.nn.relu)(X)\n",
    "outputs = tf.keras.layers.Dense(4, activation=tf.nn.softmax)(X)\n",
    "model = tf.keras.Model(inputs=inputs, outputs=outputs)\n",
    "model.summary()"
   ]
  },
  {
   "cell_type": "code",
   "execution_count": 179,
   "metadata": {},
   "outputs": [
    {
     "name": "stdout",
     "output_type": "stream",
     "text": [
      "10/10 [==============================] - 0s 5ms/step\n",
      "              precision    recall  f1-score   support\n",
      "\n",
      "           0       0.96      0.52      0.68        50\n",
      "           1       0.81      0.97      0.88       149\n",
      "           2       0.77      0.69      0.73        70\n",
      "           3       0.74      0.77      0.75        30\n",
      "\n",
      "    accuracy                           0.81       299\n",
      "   macro avg       0.82      0.74      0.76       299\n",
      "weighted avg       0.82      0.81      0.80       299\n",
      "\n"
     ]
    }
   ],
   "source": [
    "from sklearn.metrics import confusion_matrix, classification_report\n",
    "y_val_hatt = model.predict(X_val)\n",
    "y_val_hatt = y_val_hatt.argmax(axis=1)\n",
    "print(classification_report(y_val.argmax(axis = 1),y_val_hatt))"
   ]
  },
  {
   "cell_type": "code",
   "execution_count": 173,
   "metadata": {},
   "outputs": [
    {
     "name": "stdout",
     "output_type": "stream",
     "text": [
      "10/10 [==============================] - 0s 18ms/step\n"
     ]
    }
   ],
   "source": [
    "from sklearn.metrics import confusion_matrix, classification_report\n",
    "y_val_hatt = model.predict(X_val_mat)\n",
    "\n",
    "y_val_hatt = y_val_hatt.argmax(axis=1)"
   ]
  },
  {
   "cell_type": "code",
   "execution_count": 175,
   "metadata": {},
   "outputs": [
    {
     "name": "stdout",
     "output_type": "stream",
     "text": [
      "              precision    recall  f1-score   support\n",
      "\n",
      "           0       1.00      0.76      0.86        50\n",
      "           1       0.88      0.96      0.92       149\n",
      "           2       0.88      0.83      0.85        70\n",
      "           3       0.82      0.90      0.86        30\n",
      "\n",
      "    accuracy                           0.89       299\n",
      "   macro avg       0.89      0.86      0.87       299\n",
      "weighted avg       0.89      0.89      0.89       299\n",
      "\n"
     ]
    }
   ],
   "source": [
    "print(classification_report(y_val.argmax(axis = 1),y_val_hatt))"
   ]
  },
  {
   "cell_type": "markdown",
   "metadata": {},
   "source": [
    "# Compare to the pretrained model"
   ]
  },
  {
   "cell_type": "code",
   "execution_count": 187,
   "metadata": {
    "scrolled": false
   },
   "outputs": [
    {
     "name": "stdout",
     "output_type": "stream",
     "text": [
      "WARNING:tensorflow:Error in loading the saved optimizer state. As a result, your model is starting with a freshly initialized optimizer.\n"
     ]
    }
   ],
   "source": [
    "new_model = tf.keras.models.load_model('andreotti_et_al.h5')\n",
    "\n",
    "# Show the model architecture\n",
    "#new_model.summary()"
   ]
  },
  {
   "cell_type": "code",
   "execution_count": null,
   "metadata": {},
   "outputs": [],
   "source": [
    "from \n",
    "\n",
    "# Create a new model instance\n",
    "model = create_model()\n",
    "\n",
    "# Load the previously saved weights\n",
    "model.load_weights(latest)\n",
    "\n",
    "# Re-evaluate the model\n",
    "loss, acc = model.evaluate(test_images, test_labels, verbose=2)\n",
    "print(\"Restored model, accuracy: {:5.2f}%\".format(100 * acc))"
   ]
  },
  {
   "cell_type": "code",
   "execution_count": 185,
   "metadata": {},
   "outputs": [],
   "source": [
    "X= open_csv_file(\"cinc2017_raw_train.csv\")\n",
    "# y = open_csv_file(\"cinc2017_labels_training.csv\")\n",
    "X_vall = open_csv_file(\"cinc2017_raw_validation.csv\")\n",
    "# y_vall = open_csv_file(\"cinc2017_labels_validation.csv\")\n"
   ]
  },
  {
   "cell_type": "code",
   "execution_count": 186,
   "metadata": {},
   "outputs": [
    {
     "name": "stdout",
     "output_type": "stream",
     "text": [
      "(8527, 18000)\n",
      "(299, 18000)\n"
     ]
    }
   ],
   "source": [
    "print(X.shape)\n",
    "print(X_vall.shape)\n"
   ]
  },
  {
   "cell_type": "code",
   "execution_count": 188,
   "metadata": {},
   "outputs": [
    {
     "name": "stdout",
     "output_type": "stream",
     "text": [
      "10/10 [==============================] - 16s 1s/step\n"
     ]
    }
   ],
   "source": [
    "y_vall_hatt = new_model.predict(X_vall)\n",
    "\n",
    "y_vall_hatt = y_vall_hatt.argmax(axis = 1)"
   ]
  },
  {
   "cell_type": "code",
   "execution_count": 192,
   "metadata": {},
   "outputs": [
    {
     "name": "stdout",
     "output_type": "stream",
     "text": [
      "              precision    recall  f1-score   support\n",
      "\n",
      "           0       0.95      0.72      0.82        50\n",
      "           1       0.93      0.95      0.94       149\n",
      "           2       0.85      0.87      0.86        70\n",
      "           3       0.76      0.93      0.84        30\n",
      "\n",
      "    accuracy                           0.89       299\n",
      "   macro avg       0.87      0.87      0.86       299\n",
      "weighted avg       0.90      0.89      0.89       299\n",
      "\n"
     ]
    }
   ],
   "source": [
    "print(classification_report(y_val.argmax(axis = 1) , y_vall_hatt) )"
   ]
  },
  {
   "cell_type": "markdown",
   "metadata": {},
   "source": [
    "## In conclusion , our LSTM based model gives a higher f1 score than the pretrained model. But it can also be due to randomness ."
   ]
  },
  {
   "cell_type": "code",
   "execution_count": null,
   "metadata": {},
   "outputs": [],
   "source": []
  }
 ],
 "metadata": {
  "colab": {
   "include_colab_link": true,
   "provenance": []
  },
  "kernelspec": {
   "display_name": "Python 3 (ipykernel)",
   "language": "python",
   "name": "python3"
  },
  "language_info": {
   "codemirror_mode": {
    "name": "ipython",
    "version": 3
   },
   "file_extension": ".py",
   "mimetype": "text/x-python",
   "name": "python",
   "nbconvert_exporter": "python",
   "pygments_lexer": "ipython3",
   "version": "3.10.9"
  }
 },
 "nbformat": 4,
 "nbformat_minor": 1
}
