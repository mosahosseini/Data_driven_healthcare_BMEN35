{
 "cells": [
  {
   "cell_type": "markdown",
   "metadata": {
    "colab_type": "text",
    "id": "view-in-github"
   },
   "source": [
    "<a href=\"https://colab.research.google.com/github/antfolk/BMEN35_2023/blob/main/Session1/BMEN35_Ex3_matplotlib.ipynb\" target=\"_parent\"><img src=\"https://colab.research.google.com/assets/colab-badge.svg\" alt=\"Open In Colab\"/></a>"
   ]
  },
  {
   "cell_type": "markdown",
   "metadata": {
    "id": "mjgHkGwZMduF"
   },
   "source": [
    "## Matplotlib\n",
    "\n",
    "In this exercise we will looking another of the \"basic\" Python libraries that you will come across. This notebook covers matplotlib.\n",
    "\n",
    "Matplotlib (https://matplotlib.org/) is \"is a comprehensive library for creating static, animated, and interactive visualizations in Python. Matplotlib makes easy things easy and hard things possible.\". If you are running this code on your own (outside google colab), you will need to install the matplotlib package (eg. using pip or conda). We will start with the \"standard\" way of importing matplotlib (given that it is installed)"
   ]
  },
  {
   "cell_type": "code",
   "execution_count": null,
   "metadata": {
    "id": "2Ax0IyJcjBUM"
   },
   "outputs": [],
   "source": [
    "import matplotlib"
   ]
  },
  {
   "cell_type": "markdown",
   "metadata": {
    "id": "hXCynBIJjLZJ"
   },
   "source": [
    "Lets start by making our first graph. We will import pyplot from matplotlib and \"rename\" it plt. We will plot an array with number using the plot() command and then call the show() function"
   ]
  },
  {
   "cell_type": "code",
   "execution_count": null,
   "metadata": {
    "id": "9R9LIL3_jKk3"
   },
   "outputs": [],
   "source": [
    "import matplotlib.pyplot as plt\n",
    "plt.plot([0,1,0,1,0,1,-1,0,-1,1])\n",
    "plt.show()"
   ]
  },
  {
   "cell_type": "markdown",
   "metadata": {
    "id": "LsZPUae-QOAc"
   },
   "source": [
    "The matplotlib.pyplot is supposed to provide \"MATLAB-like\" way of plotting. Not quite the same as Matlab but in some sense similar.\n",
    "\n",
    "The axes are automatically scaled to the data (similar to MATLAB) and if these need to be changed we can use the `axis` function to change the \"length\" of the x and y-axes. We use the same data as the previous plot and the axis function to change this. The arguments for the axis function are  `[xmin, xmax, ymin, ymax]`\n"
   ]
  },
  {
   "cell_type": "code",
   "execution_count": null,
   "metadata": {
    "id": "yOKFqBcjPUwC"
   },
   "outputs": [],
   "source": [
    "plt.plot([0,1,0,1,0,1,-1,0,-1,1])\n",
    "plt.axis([-2,11, -2,2])\n",
    "plt.show()"
   ]
  },
  {
   "cell_type": "markdown",
   "metadata": {
    "id": "xOasSHdFQP0v"
   },
   "source": [
    "In the next example we can plot a mathematical function e^x. We will use a built-in function in numpy (`linspace`) to create an array with x-values. The we create another array with the computed y-values."
   ]
  },
  {
   "cell_type": "code",
   "execution_count": null,
   "metadata": {
    "id": "-_jMyGQ4QOxF"
   },
   "outputs": [],
   "source": [
    "import numpy as np # First we need to import numpy\n",
    "x = np.linspace(0,5,500) # Generate 500 values ranging from 0 to 5\n",
    "y = np.exp(x) # Here we use the numpy version there is also a version in math\n",
    "plt.plot(x, y)\n",
    "plt.show()"
   ]
  },
  {
   "cell_type": "markdown",
   "metadata": {
    "id": "MMMlNulKRo1Y"
   },
   "source": [
    "This plot would be insufficient for a report so lets try to make nicer. We will change the color, add a title, add x and y label, add a grid and change color of the line. We will also save the plot to a file (png-format). If you are running google colab you will see the file in the left menu."
   ]
  },
  {
   "cell_type": "code",
   "execution_count": null,
   "metadata": {
    "id": "2KdS8ac87QP3"
   },
   "outputs": [],
   "source": [
    "plt.plot(x,y,'-r', label= \"e to the x\")  # Label is used for the legend\n",
    "plt.title(\"e$^x$\")\n",
    "plt.xlabel(\"X in arbitrary units [au]\")\n",
    "plt.ylabel(\"Y in arbitrary units [au]\")\n",
    "plt.grid(\"True\")\n",
    "plt.legend(loc=\"best\")\n",
    "plt.savefig(\"e_to_the_x.png\", transparent=True) # You can also save your figure to disk"
   ]
  },
  {
   "cell_type": "markdown",
   "metadata": {
    "id": "bdmbCuzVET6t"
   },
   "source": [
    "Another helpful plot would be the histogram. A histogram can be plotted using `plt.hist()`. Recall that you can generate random numbers from different distributions using numpy."
   ]
  },
  {
   "cell_type": "code",
   "execution_count": null,
   "metadata": {
    "id": "1TrkD_w2E-cW"
   },
   "outputs": [],
   "source": [
    "a = np.random.rand(100000) # 100000 numbers sampled from a uniform distribution over [0, 1).\n",
    "plt.hist(a)\n",
    "plt.xlim([-2,2])\n",
    "plt.show()"
   ]
  },
  {
   "cell_type": "markdown",
   "metadata": {
    "id": "F887EUEOH0iA"
   },
   "source": [
    "Looks like a \"uniform\" distribution between 0 and 1.\n",
    "\n",
    "Next we generate random numbers from a normal distribution."
   ]
  },
  {
   "cell_type": "code",
   "execution_count": null,
   "metadata": {
    "id": "Az-nLY4iIC7k"
   },
   "outputs": [],
   "source": [
    "b = np.random.randn(100000) # 100000 numbers sampled from a normal distribution with mean 0 and variance = 1\n",
    "plt.hist(b, bins=200)\n",
    "plt.show()"
   ]
  },
  {
   "cell_type": "markdown",
   "metadata": {
    "id": "RKPhf0eJB82i"
   },
   "source": [
    "You can also plot 3D surfaces. Not quite as straightforward as with simple lineplots. More info in the matplotlib documentation."
   ]
  },
  {
   "cell_type": "code",
   "execution_count": null,
   "metadata": {
    "id": "WKks3DlZCfbw"
   },
   "outputs": [],
   "source": [
    "x = np.linspace(-5, 5, 50) # Generate 50 equally spaced values between -5 and 5.\n",
    "y = np.linspace(-5, 5, 50) # Generate 50 equally spaced values between -5 and 5.\n",
    "X, Y = np.meshgrid(x, y)  # Make a meshgrid\n",
    "print(X.shape)\n",
    "Z = np.exp(-0.1*X**2-0.1*Y**2) # Calculate Z values\n",
    "\n",
    "figure = plt.figure(1, figsize = (12, 4))\n",
    "subplot3d = plt.subplot(111, projection='3d')\n",
    "surface = subplot3d.plot_surface(X, Y, Z,cmap=matplotlib.cm.coolwarm)\n",
    "plt.show()\n"
   ]
  },
  {
   "cell_type": "markdown",
   "metadata": {
    "id": "g63GRWqoi8QT"
   },
   "source": [
    "Another way to visualise this type of data is a contour plot (think topographic maps). Also, a cool way to make a dartboard..."
   ]
  },
  {
   "cell_type": "code",
   "execution_count": null,
   "metadata": {
    "id": "8m3opBZxjHRn"
   },
   "outputs": [],
   "source": [
    "plt.contourf(X, Y, Z, cmap=matplotlib.cm.coolwarm)\n",
    "plt.colorbar()\n",
    "plt.show()"
   ]
  },
  {
   "cell_type": "markdown",
   "metadata": {
    "id": "Z7mzjOe0j9pQ"
   },
   "source": [
    "Another nice plot (that is quite useful for some classification visualisations) is the scatter plot. A scatter plot is the \"x\" and \"y\" coordinates and the color can represent the class."
   ]
  },
  {
   "cell_type": "code",
   "execution_count": null,
   "metadata": {
    "id": "Wphlzd-KlpMe"
   },
   "outputs": [],
   "source": [
    "from sklearn.datasets import make_blobs # A new library that you will learn about soon ;)\n",
    "X, y = make_blobs(n_samples=1000, centers=4, n_features=2, random_state=0)\n",
    "colormap = np.array(['r', 'g', 'b','c'])\n",
    "plt.scatter(X[:,0],X[:,1],c=colormap[y])"
   ]
  },
  {
   "cell_type": "markdown",
   "metadata": {
    "id": "CX5DRU_3krqe"
   },
   "source": [
    "That is it for this (very) short tutorial on matplotlib. You can find more tutorials online. Like this one https://matplotlib.org/stable/plot_types/index.html or this one https://matplotlib.org/stable/tutorials/index.html\n",
    "\n",
    "### The end"
   ]
  }
 ],
 "metadata": {
  "colab": {
   "include_colab_link": true,
   "provenance": []
  },
  "kernelspec": {
   "display_name": "Python 3 (ipykernel)",
   "language": "python",
   "name": "python3"
  },
  "language_info": {
   "codemirror_mode": {
    "name": "ipython",
    "version": 3
   },
   "file_extension": ".py",
   "mimetype": "text/x-python",
   "name": "python",
   "nbconvert_exporter": "python",
   "pygments_lexer": "ipython3",
   "version": "3.9.13"
  }
 },
 "nbformat": 4,
 "nbformat_minor": 1
}
