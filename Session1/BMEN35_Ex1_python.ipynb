{
  "cells": [
    {
      "cell_type": "markdown",
      "metadata": {
        "id": "view-in-github",
        "colab_type": "text"
      },
      "source": [
        "<a href=\"https://colab.research.google.com/github/antfolk/BMEN35_2023/blob/main/Session1/BMEN35_Ex1_python.ipynb\" target=\"_parent\"><img src=\"https://colab.research.google.com/assets/colab-badge.svg\" alt=\"Open In Colab\"/></a>"
      ]
    },
    {
      "cell_type": "markdown",
      "metadata": {
        "id": "vqDI3Y7Z9IhD"
      },
      "source": [
        "### Introduction to Python\n",
        "\n",
        "\n",
        "In this first notebook, you will learn some of the basics of Python. General syntax and similar stuff. You can find the language reference and library reference for Python at https://docs.python.org/ along with other useful information.\n",
        "\n",
        "We can add number as below."
      ]
    },
    {
      "cell_type": "code",
      "execution_count": null,
      "metadata": {
        "id": "YoBbruaO9CeC"
      },
      "outputs": [],
      "source": [
        "5+7"
      ]
    },
    {
      "cell_type": "markdown",
      "metadata": {
        "id": "hi1lp2mk9nCs"
      },
      "source": [
        "Or we can use floating point numbers"
      ]
    },
    {
      "cell_type": "code",
      "execution_count": null,
      "metadata": {
        "id": "8YRKG9yg9j2F"
      },
      "outputs": [],
      "source": [
        "3.5 + 8"
      ]
    },
    {
      "cell_type": "code",
      "execution_count": null,
      "metadata": {
        "id": "IxMqIWlrLnx2"
      },
      "outputs": [],
      "source": [
        "# Comments are preceeded by #\n",
        "\"\"\"\n",
        "You can also use three quotation marks to\n",
        "start eg. a multiline/block comments.\n",
        "Your future self will thank you for\n",
        "commenting your code.\n",
        "\n",
        "\"\"\"\n",
        "# Some basic operations (similar to what you would see in Java or C)\n",
        "# Here we will use the print function to show the output from several statements\n",
        "print(3+4)\n",
        "print(3*4)\n",
        "print(3/4)\n",
        "print(3 - 4 * 7)\n",
        "print((3-4) * 7)\n"
      ]
    },
    {
      "cell_type": "markdown",
      "metadata": {
        "id": "kTagF1SP-Ntd"
      },
      "source": [
        "We can define variables using the '=' symbol. Note that you do not need a semicolon at the end of statements as in Matlab, C, or Java. However, the \":\" symbol is used in eg. for loops (see below).\n",
        "\n",
        "We don't necessearily needs to define the type of the variable (as in eg. C or Java with int myAge = 150). In colab you can also view variables by clicking on {x} in left toolbar"
      ]
    },
    {
      "cell_type": "code",
      "execution_count": null,
      "metadata": {
        "id": "ND2zS1VR9ryp"
      },
      "outputs": [],
      "source": [
        "myAge = 356\n",
        "myName = 'Lund University'"
      ]
    },
    {
      "cell_type": "markdown",
      "metadata": {
        "id": "CtWylaXG-ssh"
      },
      "source": [
        "And we can find out the types of the variable by using `type()`"
      ]
    },
    {
      "cell_type": "code",
      "execution_count": null,
      "metadata": {
        "id": "ooBK68O8-sBa"
      },
      "outputs": [],
      "source": [
        "type(myAge)"
      ]
    },
    {
      "cell_type": "code",
      "execution_count": null,
      "metadata": {
        "id": "A3cf_1Tl-5-R"
      },
      "outputs": [],
      "source": [
        "type(myName)"
      ]
    },
    {
      "cell_type": "markdown",
      "metadata": {
        "id": "taxT8oz_AUI2"
      },
      "source": [
        "We can define two numbers and add them. Also pay attention to what happen in the Variables window {x} to the left (if you are running colab)."
      ]
    },
    {
      "cell_type": "code",
      "execution_count": null,
      "metadata": {
        "id": "WXy31aUQATIu"
      },
      "outputs": [],
      "source": [
        "first_num = 2\n",
        "second_num = 4\n",
        "result = first_num + second_num\n",
        "print(result)"
      ]
    },
    {
      "cell_type": "markdown",
      "metadata": {
        "id": "ipFKma9YB6Db"
      },
      "source": [
        "We can also do things that may not be what we wanted... Before you run the cell, think what the results will be (`my_yearly_incomes`)"
      ]
    },
    {
      "cell_type": "code",
      "execution_count": null,
      "metadata": {
        "id": "Zl3SgIA_Co2k"
      },
      "outputs": [],
      "source": [
        "my_incomes = '1000'\n",
        "my_yearly_incomes = 12*my_incomes\n",
        "print(my_yearly_incomes)"
      ]
    },
    {
      "cell_type": "markdown",
      "metadata": {
        "id": "wsPJbCQUC-xY"
      },
      "source": [
        "Why did this happen? This is probably more what was wanted."
      ]
    },
    {
      "cell_type": "code",
      "execution_count": null,
      "metadata": {
        "id": "DkzHg5ewBNeA"
      },
      "outputs": [],
      "source": [
        "my_salary = 1000\n",
        "my_yearly_income = 12*1000\n",
        "print(my_yearly_income)"
      ]
    },
    {
      "cell_type": "markdown",
      "metadata": {
        "id": "E01DQEELFjxI"
      },
      "source": [
        "Some of the more \"advanced\" data types in Python are `list`,`tuple`, `set` and `dictionary`. These are typically used to store *collections* of data. There is also another datatype called arrays, but we will not use that as might become apparent later.\n",
        "\n",
        "We will explore lists first. List items are ordered, changeable, and allow duplicate values. Ordered means that items have a defined order and that order will not change. If a new item is added to a list, the new item will be placed at the end of the list. Changable means items can be changed, added or removed after the list was created. You can acces elements in a list through indexing.\n",
        "\n",
        "A list is created as below (note the use of square brackets [ ]) :"
      ]
    },
    {
      "cell_type": "code",
      "execution_count": null,
      "metadata": {
        "id": "tk0N7t70GSok"
      },
      "outputs": [],
      "source": [
        "my_list = ['Lund' , 'Stockholm', 'Malmö', 'Malmö']\n",
        "print(my_list)"
      ]
    },
    {
      "cell_type": "markdown",
      "metadata": {
        "id": "oPlC-0CkGpOV"
      },
      "source": [
        "Elements in a list can have different datatypes. In the next cell we list the \"datatypes\"."
      ]
    },
    {
      "cell_type": "code",
      "execution_count": null,
      "metadata": {
        "id": "ZCdGCr_oJAYV"
      },
      "outputs": [],
      "source": [
        "diff_list = [12, 'my_age', True, 3.14, 'Lund']\n",
        "print(type(diff_list))\n",
        "print(type(diff_list[0]))\n",
        "print(type(diff_list[2]))\n",
        "print(type(diff_list[4]))\n"
      ]
    },
    {
      "cell_type": "markdown",
      "metadata": {
        "id": "BMhfhB-tLVTZ"
      },
      "source": [
        "There are several ways of manipulating lists. Below you can find some of the ways to manipulate a list."
      ]
    },
    {
      "cell_type": "code",
      "execution_count": null,
      "metadata": {
        "id": "U-6alLDSL7VY"
      },
      "outputs": [],
      "source": [
        "numbers_list = [1,3,4,5,6,7]\n",
        "numbers_list.insert(1,2) # insert 2 at index 1\n",
        "print(numbers_list)\n",
        "numbers_list.append(8) # put 8 at the end of the sequence/list\n",
        "print(numbers_list)\n",
        "numbers_list.extend([9,10,11]) # extend list with contents within brackets ()\n",
        "print(numbers_list)"
      ]
    },
    {
      "cell_type": "markdown",
      "metadata": {
        "id": "yTfF5mx3MxQv"
      },
      "source": [
        "The next datatype is `tuple`. A tuple is a collection which is ordered and **unchangeable** and allow duplicate values.\n",
        "\n",
        "A tuple is created as below (note the use of round brackets ( ) ):\n"
      ]
    },
    {
      "cell_type": "code",
      "execution_count": null,
      "metadata": {
        "id": "WcL_1OXmNHGp"
      },
      "outputs": [],
      "source": [
        "numbers_tuple = (1,2,5,'Lund',2)\n",
        "print(type(numbers_tuple))\n",
        "print(type(numbers_tuple[0]))\n",
        "print(numbers_tuple[0])"
      ]
    },
    {
      "cell_type": "markdown",
      "metadata": {
        "id": "IVh0pi5gU3hk"
      },
      "source": [
        "A tuple is unchangeable so the following wont work. Here you will also see what an error could look like."
      ]
    },
    {
      "cell_type": "code",
      "execution_count": null,
      "metadata": {
        "id": "FyoSKKaEU_VJ"
      },
      "outputs": [],
      "source": [
        "numbers_tuple.insert(1,2)"
      ]
    },
    {
      "cell_type": "markdown",
      "metadata": {
        "id": "-njHNTn3VbeU"
      },
      "source": [
        "The next datatype is dictionary, Dictionaries are used to store data values in **key:value pairs**. A dictionary is a collection which is ordered, changeable and **do not allow duplicates**.\n",
        "\n",
        "A dictionary is created as below (note the use of curly bracket **{ }** )"
      ]
    },
    {
      "cell_type": "code",
      "execution_count": null,
      "metadata": {
        "id": "OD_v0-m5V7ta"
      },
      "outputs": [],
      "source": [
        "furniture_dict = {\"brand\": \"Ikea\", \"model\": \"Billy\", \"year\": 2015, \"model\": 'Kallax'}\n",
        "print(type(furniture_dict))\n",
        "print(furniture_dict)"
      ]
    },
    {
      "cell_type": "markdown",
      "metadata": {
        "id": "bggpyiKPW0Fw"
      },
      "source": [
        "Note that model Billy is not longer in the dictionary as duplicates are not allowed.\n",
        "\n",
        "Dictionaries can be accessed using the \"key\""
      ]
    },
    {
      "cell_type": "code",
      "execution_count": null,
      "metadata": {
        "id": "ekO_tS9GWzMC",
        "scrolled": true
      },
      "outputs": [],
      "source": [
        "print(furniture_dict['brand'])"
      ]
    },
    {
      "cell_type": "markdown",
      "metadata": {
        "id": "YHHknGANX8eU"
      },
      "source": [
        "### Flow control\n",
        "\n",
        "In the next part we will look at program \"flow control\". You are probably familiar with these concepts (`if` statements, `for`-loop, `while`-loop). We will start with an example of the while statement. Pay attention to the **:** and indentation. Indentation is the Python way of grouping statement (instead of eg curly brackets in C or Java or an end statement in Matlab)"
      ]
    },
    {
      "cell_type": "code",
      "execution_count": null,
      "metadata": {
        "id": "vJ1NtiylZc5c"
      },
      "outputs": [],
      "source": [
        "# Calculate squares\n",
        "i = 1\n",
        "while i < 10:\n",
        "  print(i*i)\n",
        "  i+=1\n",
        "\n"
      ]
    },
    {
      "cell_type": "markdown",
      "metadata": {
        "id": "Ee_-IAXhc9Ot"
      },
      "source": [
        "Now lets take a look at `if` statements. In Python they consist of `if`, `elif`, `else`.\n"
      ]
    },
    {
      "cell_type": "code",
      "execution_count": null,
      "metadata": {
        "id": "bioM8IuUq8wz"
      },
      "outputs": [],
      "source": [
        "x = int(input(\"Please enter an integer: \"))\n",
        "\n",
        "if x < 0: # Note the use of the colon here\n",
        "  print('Negative')\n",
        "elif x == 0:\n",
        "    print('Zero')\n",
        "else:\n",
        "    print('Positive')"
      ]
    },
    {
      "cell_type": "markdown",
      "metadata": {
        "id": "Cug_9aFQrlLI"
      },
      "source": [
        "The `for`statement in Python are somewhat different from what you may be used to. Python can iterate over the items of any sequence. Python can iterate over \"iterable\" items."
      ]
    },
    {
      "cell_type": "code",
      "execution_count": null,
      "metadata": {
        "id": "8LaaeQ1lr9nX"
      },
      "outputs": [],
      "source": [
        "my_weird_list = [12, 'my_age', True, 3.14, 'Lund']\n",
        "for i in my_weird_list: # Note the colon here\n",
        "  print(i)"
      ]
    },
    {
      "cell_type": "markdown",
      "metadata": {
        "id": "kIgmoxR_uH63"
      },
      "source": [
        "The `range()`function is sometimes useful in for-loops."
      ]
    },
    {
      "cell_type": "code",
      "execution_count": null,
      "metadata": {
        "id": "6e_otLU7uG_l"
      },
      "outputs": [],
      "source": [
        "for i in range(5): # Note that Pyton starts from 0\n",
        "  print(i)"
      ]
    },
    {
      "cell_type": "code",
      "execution_count": null,
      "metadata": {
        "id": "Rihr50WsuW_l"
      },
      "outputs": [],
      "source": [
        "for j in range(0,10,2):\n",
        "  print(j)\n"
      ]
    },
    {
      "cell_type": "markdown",
      "metadata": {
        "id": "ydbkMhfLuyCF"
      },
      "source": [
        "There are other flow control statements that can be useful at times, for example the `match - case` which are similar to `switch - case` in C or Java"
      ]
    },
    {
      "cell_type": "markdown",
      "metadata": {
        "id": "aTEG216BwZFs"
      },
      "source": [
        "## Functions\n",
        "\n",
        "The next thing we will look into is the use of functions (or methods if you more into the OOP jargon and its defined within a class). A function is a block of code which only runs when it is called. You can pass data (parameters) to a function and a function can return data as a result. In Python functions are defined by the `def` keyword. Function prototypes are not necessary and return types need not be specified (as in C or Java)."
      ]
    },
    {
      "cell_type": "code",
      "execution_count": null,
      "metadata": {
        "id": "vR8DcsTS5w4Z"
      },
      "outputs": [],
      "source": [
        "def my_funky_function():\n",
        "  print(\"I am a funky function\")"
      ]
    },
    {
      "cell_type": "markdown",
      "metadata": {
        "id": "5oLnfrxB5-ws"
      },
      "source": [
        "Now, nothing happened because the function was not called. A function is called by using the function name"
      ]
    },
    {
      "cell_type": "code",
      "execution_count": null,
      "metadata": {
        "id": "RDNK6PA-6LZI"
      },
      "outputs": [],
      "source": [
        "my_funky_function()"
      ]
    },
    {
      "cell_type": "markdown",
      "metadata": {
        "id": "bVnwkaF36ewV"
      },
      "source": [
        "A function can take parameters/arguments and return something. For example"
      ]
    },
    {
      "cell_type": "code",
      "execution_count": null,
      "metadata": {
        "id": "yV2PaxCQ6qab"
      },
      "outputs": [],
      "source": [
        "def my_add_function(x,y):\n",
        "  return (x+y)\n",
        "\n",
        "a = my_add_function(5,4)\n",
        "print(a)"
      ]
    },
    {
      "cell_type": "markdown",
      "metadata": {
        "id": "GZoXKaxD7SVW"
      },
      "source": [
        "Part of the \"magic\" of Python are the extensive libraries and parts of these are the modules. A module is a file with functions. This makes writing a program easier since you can \"hide\" a lot of code in modules.\n",
        "\n",
        "In order to try this (in colab), go to Files in the left menu (the folder icon). Right-click in the list and select New file. Change the name of the file to `myfirstmodule.py` . If this doesn't work run the following cell."
      ]
    },
    {
      "cell_type": "code",
      "source": [
        "!touch myfirstmodule.py"
      ],
      "metadata": {
        "id": "ERbLGpJhLx_E"
      },
      "execution_count": null,
      "outputs": []
    },
    {
      "cell_type": "markdown",
      "source": [
        "Now you should have a file named myfirstmodule.py.\n",
        "\n",
        " Double click the file and write a function named `my_cool_adder()` that take three numbers as a argument and returns their sum.\n",
        "\n",
        "Run the code below.\n",
        "\n"
      ],
      "metadata": {
        "id": "wZSyqJz0L0mT"
      }
    },
    {
      "cell_type": "code",
      "execution_count": null,
      "metadata": {
        "id": "TMIIZafrBiwa"
      },
      "outputs": [],
      "source": [
        "import myfirstmodule\n",
        "a = myfirstmodule.my_cool_adder(2,3,4)\n",
        "print(a)"
      ]
    },
    {
      "cell_type": "markdown",
      "metadata": {
        "id": "O7mZH05xCORv"
      },
      "source": [
        "Make a new file named mysecondmodule.py . Write a new function named my_cool_multiplier that multiplies 3 number (keep in mind indentation). Run the code below."
      ]
    },
    {
      "cell_type": "code",
      "execution_count": null,
      "metadata": {
        "id": "Mr3kA00HDseF"
      },
      "outputs": [],
      "source": [
        "from mysecondmodule import my_cool_multiplier\n",
        "\n",
        "b = my_cool_multiplier(2,3,4)\n",
        "print(b)"
      ]
    },
    {
      "cell_type": "markdown",
      "metadata": {
        "id": "j32SppwnLnyU"
      },
      "source": [
        "That is it for this (very) short tutorial on Python. You can find more tutorials online. Like this one https://docs.python.org/3/tutorial/index.html.\n",
        "\n",
        "### The end"
      ]
    }
  ],
  "metadata": {
    "colab": {
      "provenance": [],
      "include_colab_link": true
    },
    "kernelspec": {
      "display_name": "Python 3 (ipykernel)",
      "language": "python",
      "name": "python3"
    },
    "language_info": {
      "codemirror_mode": {
        "name": "ipython",
        "version": 3
      },
      "file_extension": ".py",
      "mimetype": "text/x-python",
      "name": "python",
      "nbconvert_exporter": "python",
      "pygments_lexer": "ipython3",
      "version": "3.8.13"
    }
  },
  "nbformat": 4,
  "nbformat_minor": 0
}