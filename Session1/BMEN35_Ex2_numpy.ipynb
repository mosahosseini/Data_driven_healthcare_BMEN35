{
 "cells": [
  {
   "cell_type": "markdown",
   "metadata": {
    "colab_type": "text",
    "id": "view-in-github"
   },
   "source": [
    "<a href=\"https://colab.research.google.com/github/antfolk/BMEN35_2023/blob/main/Session1/BMEN35_Ex2_numpy.ipynb\" target=\"_parent\"><img src=\"https://colab.research.google.com/assets/colab-badge.svg\" alt=\"Open In Colab\"/></a>"
   ]
  },
  {
   "cell_type": "markdown",
   "metadata": {
    "id": "PL8qrxTzGLtJ"
   },
   "source": [
    "# Numpy\n",
    "\n",
    "In this exercise we will looking into some of the \"basic\" Python libraries that you will come across. We will start with NumPy.\n",
    "\n",
    "NumPy (https://numpy.org/) is \"the fundamental package for scientific computing with Python\". If you are running this code on your own (outside google colab), you will need to install the NumPy package (eg. using pip or conda). We will start with the \"standard\" way of importing numpy(given that it is installed)."
   ]
  },
  {
   "cell_type": "code",
   "execution_count": null,
   "metadata": {
    "id": "5GpHzcSxGIui"
   },
   "outputs": [],
   "source": [
    "import numpy as np"
   ]
  },
  {
   "cell_type": "markdown",
   "metadata": {
    "id": "6r4J3hoAOhYz"
   },
   "source": [
    "Numpy has its \"own\" datatypes and the ones you will use a lot is arrays (numpy arrays that is which are different from the other Python arrays)\n",
    "\n",
    "You can define variable (like arrays) in the following way."
   ]
  },
  {
   "cell_type": "code",
   "execution_count": null,
   "metadata": {
    "id": "HDdPZwkvUerx"
   },
   "outputs": [],
   "source": [
    "a  = np.array([1,2,3])\n",
    "print(type(a))\n",
    "print(a)"
   ]
  },
  {
   "cell_type": "code",
   "execution_count": null,
   "metadata": {
    "id": "MuO7xIO9Ooya"
   },
   "outputs": [],
   "source": [
    "b = np.zeros(5)\n",
    "print(type(b))\n",
    "print(b)"
   ]
  },
  {
   "cell_type": "markdown",
   "metadata": {
    "id": "2dMUqCaOPRBB"
   },
   "source": [
    "The above commands creates an array of zeros (great for initializing).\n",
    "\n",
    "Similarly you can create a matrix/2D array like below. Note that the argument is (4,3) with parenthesis and this denotes the shape of the array. This (the argument) is a tuple of ints (as stated in the documentation)."
   ]
  },
  {
   "cell_type": "code",
   "execution_count": null,
   "metadata": {
    "id": "AL39jGXPRT0o"
   },
   "outputs": [],
   "source": [
    "c = np.zeros((4,3)) # Four rows, three columns\n",
    "print(c)"
   ]
  },
  {
   "cell_type": "markdown",
   "metadata": {
    "id": "YYQtcxxxR4Lf"
   },
   "source": [
    "## Numpy vocabulary\n",
    "\n",
    "Numpy comes with its own \"vocubulary\" and some of the commonly used word you will encounter are the following.\n",
    "\n",
    "Each dimension of the NumPy array is called an **axis**. <br>\n",
    "The number of axes is called the **rank**.<br>\n",
    "The length of (each of) the axes is called the **shape**.<br>\n",
    "\n",
    "\n",
    "\n",
    "The astute student will think, why not use any of the good old datatypes from the previous lecture (such as dictionaries). Part of the answer is that in a numpy all elements have the same datatype (which is numerical, eg. not a string)"
   ]
  },
  {
   "cell_type": "code",
   "execution_count": null,
   "metadata": {
    "id": "Xqr4409LWgLr"
   },
   "outputs": [],
   "source": [
    "d = np.ones((5,3)) # Five rows, three columns\n",
    "print(d)\n",
    "d.shape"
   ]
  },
  {
   "cell_type": "code",
   "execution_count": null,
   "metadata": {
    "id": "yM1gvvuAWmVO"
   },
   "outputs": [],
   "source": [
    "d.ndim # How many dimensions in array d"
   ]
  },
  {
   "cell_type": "code",
   "execution_count": null,
   "metadata": {
    "id": "w4_p_gzkWqLR"
   },
   "outputs": [],
   "source": [
    "d.size # Number of elements in the array."
   ]
  },
  {
   "cell_type": "markdown",
   "metadata": {
    "id": "TdtUaaCrW-B4"
   },
   "source": [
    "You can create arrays of arbitrary rank (\"dimension\"). Below is a 3D array with the shape (5,4,3) and a 4D array with the shape (2,3,4,5)."
   ]
  },
  {
   "cell_type": "code",
   "execution_count": null,
   "metadata": {
    "id": "Jnrc8Ol8W5I6"
   },
   "outputs": [],
   "source": [
    "e = np.ones((5,4,3))\n",
    "print(e)"
   ]
  },
  {
   "cell_type": "code",
   "execution_count": null,
   "metadata": {
    "id": "-bIxkM8rXTPC"
   },
   "outputs": [],
   "source": [
    "f = np.ones((5,4,3,2))\n",
    "print(f)"
   ]
  },
  {
   "cell_type": "markdown",
   "metadata": {
    "id": "Ayxz1mREdXrM"
   },
   "source": [
    "Arrays in Python are typically row-major order (see wikipedia if of interest). Lets generate an 2D array with 3 rows and 2 colums."
   ]
  },
  {
   "cell_type": "code",
   "execution_count": null,
   "metadata": {
    "id": "5v-tC3QBexID"
   },
   "outputs": [],
   "source": [
    "g = np.array([[1,2],[3,4],[5,6]])\n",
    "print(g)\n",
    "g1 = g[1,:] # Select 2nd row (index 1) and all columns\n",
    "print(g1)"
   ]
  },
  {
   "cell_type": "markdown",
   "metadata": {
    "id": "9joljzg8gZQ9"
   },
   "source": [
    "We can use the function `arange()` (which is similar to the `range()` function we used in the previous exercise) to create an array. Here we create an array with number starting at 1 to (at most) 10 with increments of 2."
   ]
  },
  {
   "cell_type": "code",
   "execution_count": null,
   "metadata": {
    "id": "hhOsJ6HwgzkZ"
   },
   "outputs": [],
   "source": [
    "f = np.arange(1,10,2)\n",
    "print(f)"
   ]
  },
  {
   "cell_type": "markdown",
   "metadata": {
    "id": "aOYxBtZsHK-8"
   },
   "source": [
    "# Common numpy routines\n",
    "\n",
    "There are several numpy routines you will come across and we will briefly mention a few. More details can be found in the API reference for numpy.\n",
    "\n",
    "We will start with `numpy.random` . Here you can find routines to create (pseudo) random numbers.\n",
    "\n",
    "The `rand()` method will create an array with random samples from a `uniform distribution` over [0,1]. Pay attention to how this method is called."
   ]
  },
  {
   "cell_type": "code",
   "execution_count": null,
   "metadata": {
    "id": "fBCbfTjjJF4m"
   },
   "outputs": [],
   "source": [
    "my_rand = np.random.rand(5) # Create an array with 5 random number\n",
    "print(my_rand)"
   ]
  },
  {
   "cell_type": "markdown",
   "metadata": {
    "id": "whD70FwTr3j5"
   },
   "source": [
    "The `randn()` method will create an array with samples from the standard normal distribution."
   ]
  },
  {
   "cell_type": "code",
   "execution_count": null,
   "metadata": {
    "id": "01YekQ0ZsHM9"
   },
   "outputs": [],
   "source": [
    "my_randn = np.random.randn(10)\n",
    "print(my_randn)"
   ]
  },
  {
   "cell_type": "markdown",
   "metadata": {
    "id": "HKcvTCj9sckI"
   },
   "source": [
    "# Mathematical and statistical methods on numpy arrays\n",
    "There are several mathematical and statistical methods available for the `ndarray` . Some examples below:"
   ]
  },
  {
   "cell_type": "code",
   "execution_count": null,
   "metadata": {
    "id": "geZe37x1tB5j"
   },
   "outputs": [],
   "source": [
    "np.mean(my_randn) # Mean value of the my_randn vector"
   ]
  },
  {
   "cell_type": "code",
   "execution_count": null,
   "metadata": {
    "id": "qdciUAYotNqV"
   },
   "outputs": [],
   "source": [
    "np.sum(my_randn) # Summation over all the elements of my_randn"
   ]
  },
  {
   "cell_type": "code",
   "execution_count": null,
   "metadata": {
    "id": "5O4Tv8Embfpz"
   },
   "outputs": [],
   "source": [
    "np.square(my_randn) # Elementwise \"squaring\" of my_randn"
   ]
  },
  {
   "cell_type": "markdown",
   "metadata": {
    "id": "KOm3wuLWt8D8"
   },
   "source": [
    "# Linear algebra\n",
    "\n",
    "Linear algebra is fundamental to machine learning and there are several routines implemented in numpy to perform this."
   ]
  },
  {
   "cell_type": "code",
   "execution_count": null,
   "metadata": {
    "id": "5hii76vdc3Uc"
   },
   "outputs": [],
   "source": [
    "a2 = np.array([2,3])\n",
    "b2 = np.array([4,1])\n",
    "c2 = a2*b2 # Elementwise multiplication\n",
    "print(c2)"
   ]
  },
  {
   "cell_type": "markdown",
   "metadata": {
    "id": "IHq0eRmUduIA"
   },
   "source": [
    "Writing `a2*b2` will perform an *elementwise multiplication* of the vectors a and b . To take dot product (a.k.a. the inner product or scalar product) you need to use the dot() function"
   ]
  },
  {
   "cell_type": "code",
   "execution_count": null,
   "metadata": {
    "id": "PAPcB57CfCAu"
   },
   "outputs": [],
   "source": [
    "d2 = np.dot(a2,b2) # (2*4)+(3*1)\n",
    "print(d2)"
   ]
  },
  {
   "cell_type": "markdown",
   "metadata": {
    "id": "x9ySAFgZjn_1"
   },
   "source": [
    "As an example from the book a trained linear regression model in Matrix form could look like\n",
    "\\begin{equation}\n",
    "\\bf{ \\hat{y} = X\\theta}\n",
    "\\end{equation}\n",
    "Suppose we would have our input data **X**  (3-by-3 matrix) as below. Each row is one measurement for example\n",
    "\\begin{align}\n",
    "\\bf{X} = \\begin{bmatrix} 1 & 2.4 & 3.2 \\\\ 1 & 3.4 & 0.9 \\\\ 1 & 2.3 & 4.1 \\end{bmatrix}\n",
    "\\end{align}\n",
    "And our $\\bf{θ}$ (3-by-1 matrix) as\n",
    "\\begin{align}\n",
    "\\bf{θ} = \\begin{bmatrix} 7.4 \\\\ 3.2 \\\\ 4.1 \\end{bmatrix}\n",
    "\\end{align}\n",
    "We can compute $\\bf{\\hat{y}}$ as follows"
   ]
  },
  {
   "cell_type": "code",
   "execution_count": null,
   "metadata": {
    "id": "DRDluDehDdf1"
   },
   "outputs": [],
   "source": [
    "# Lets define X and print it out\n",
    "X = np.array([[1,2.4,3.2],[1,3.4,0.9],[1,2.3,4.1]])\n",
    "print(X)"
   ]
  },
  {
   "cell_type": "code",
   "execution_count": null,
   "metadata": {
    "id": "hv4VHXXk9b0d"
   },
   "outputs": [],
   "source": [
    "# Lets define theta and print it out\n",
    "theta = np.array([7.4, 3.2, 4.1])\n",
    "print(theta)"
   ]
  },
  {
   "cell_type": "code",
   "execution_count": null,
   "metadata": {
    "id": "vadJ3wFHDo4P"
   },
   "outputs": [],
   "source": [
    "# Now lets compute y_hat\n",
    "y_hat = X*theta\n",
    "print(y_hat)"
   ]
  },
  {
   "cell_type": "markdown",
   "metadata": {
    "id": "xho_yNSvEBvR"
   },
   "source": [
    "The above doesnt look right. And it isn't, * performs and *elements-wise* multiplication. In this case we want the matrix multiplication version (dot product). And we can do that in the following way."
   ]
  },
  {
   "cell_type": "code",
   "execution_count": null,
   "metadata": {
    "id": "SrodYbOUD_ER"
   },
   "outputs": [],
   "source": [
    "y_hat = [] # Get rid of old result\n",
    "y_hat = np.dot(X,theta)\n",
    "print(y_hat)"
   ]
  },
  {
   "cell_type": "markdown",
   "metadata": {
    "id": "cf92ek8EmCYs"
   },
   "source": [
    "That looks more like it. One thing to keep in mind here is that our $\\bf{θ}$ is not (3-by-1) matrix. It is a 1-D array. It is not equivalent to a \"row\" array or a \"column\" array (as would be the case in Matlab). We can see that by looking at the shape of the array."
   ]
  },
  {
   "cell_type": "code",
   "execution_count": null,
   "metadata": {
    "id": "PZx7ap62G8VO"
   },
   "outputs": [],
   "source": [
    "np.shape(theta)"
   ]
  },
  {
   "cell_type": "markdown",
   "metadata": {
    "id": "Kbzn_tb5HB2y"
   },
   "source": [
    "It just say the shape is 3. Nothing about the dimension. So if we define another $\\bf{θ}_1$ as a **row vector**.\n",
    "\\begin{align}\n",
    "\\bf{θ}_1 = \\begin{bmatrix} 7.4 & 3.2 & 4.1\\end{bmatrix}\n",
    "\\end{align}"
   ]
  },
  {
   "cell_type": "code",
   "execution_count": null,
   "metadata": {
    "id": "lBjcOHhQHBNo"
   },
   "outputs": [],
   "source": [
    "theta1 = np.array([7.4, 3.2, 4.1])\n",
    "theta1.shape = (1,3)\n",
    "print(theta1.shape)\n",
    "print(theta1)"
   ]
  },
  {
   "cell_type": "markdown",
   "metadata": {
    "id": "eyuy82eGJaFy"
   },
   "source": [
    "If we try to multiply perform \\begin{equation}\n",
    "\\bf{ \\hat{y} = X\\theta_1}\n",
    "\\end{equation}\n",
    "we will get an error in this case"
   ]
  },
  {
   "cell_type": "code",
   "execution_count": null,
   "metadata": {
    "id": "VgsZnrgUJsg5"
   },
   "outputs": [],
   "source": [
    "y_hat = np.dot(X,theta1)"
   ]
  },
  {
   "cell_type": "markdown",
   "metadata": {
    "id": "bJngJU7vKrys"
   },
   "source": [
    "This is because $\\bf{θ}_1$ as a **row vector**. We can get the results we wan't by flipping $\\bf{θ}_1$ to a column vector by taking the transpose.\n",
    "\n"
   ]
  },
  {
   "cell_type": "code",
   "execution_count": null,
   "metadata": {
    "id": "lCamIoDzLTEB"
   },
   "outputs": [],
   "source": [
    "y_hat1 = np.dot(X,theta1.T)\n",
    "print(y_hat1)"
   ]
  },
  {
   "cell_type": "markdown",
   "metadata": {
    "id": "NYE29cXDLlUz"
   },
   "source": [
    "You can now also see that the shape of y_hat1 is (3,1) as opposed to (3,).\n",
    "\n",
    "That is it for this (very) short tutorial on Numpy. You can find more tutorials online. Like this one https://numpy.org/doc/stable/user/absolute_beginners.html or this one https://numpy.org/doc/stable/user/basics.html\n",
    "\n",
    "### The end"
   ]
  }
 ],
 "metadata": {
  "colab": {
   "include_colab_link": true,
   "provenance": []
  },
  "kernelspec": {
   "display_name": "Python 3 (ipykernel)",
   "language": "python",
   "name": "python3"
  },
  "language_info": {
   "codemirror_mode": {
    "name": "ipython",
    "version": 3
   },
   "file_extension": ".py",
   "mimetype": "text/x-python",
   "name": "python",
   "nbconvert_exporter": "python",
   "pygments_lexer": "ipython3",
   "version": "3.9.13"
  }
 },
 "nbformat": 4,
 "nbformat_minor": 1
}
