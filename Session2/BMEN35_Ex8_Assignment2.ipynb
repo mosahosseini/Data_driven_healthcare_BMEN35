{
 "cells": [
  {
   "cell_type": "markdown",
   "metadata": {
    "colab_type": "text",
    "id": "view-in-github"
   },
   "source": [
    "<a href=\"https://colab.research.google.com/github/antfolk/BMEN35_2023/blob/main/Session2/BMEN35_Ex8_Assignment2.ipynb\" target=\"_parent\"><img src=\"https://colab.research.google.com/assets/colab-badge.svg\" alt=\"Open In Colab\"/></a>"
   ]
  },
  {
   "cell_type": "markdown",
   "metadata": {
    "id": "HRWK56LV6vbY"
   },
   "source": [
    "# Assignment 2\n",
    "\n",
    "## Fill in your name below\n",
    "----<font color=Green>Mosa Hosseini </font>-----\n",
    "\n",
    "## Your mission is now the following:\n",
    "You will use the Breast Cancer Wisconsin (Diagnostic) Data Set for this assignment. The dataset contains ten features computed for each cell nucleus. Features are computed from a digitized image of a fine needle aspirate (FNA) of a breast mass. They describe characteristics of the cell nuclei present in the image. You can find a description of this dataset here https://archive.ics.uci.edu/ml/datasets/Breast+Cancer+Wisconsin+(Diagnostic) The dataset is annotated, the mass is either malignant or benign.\n",
    "\n",
    "This dataset is \"built-in\" to sklearn so you do not need to download it separately.\n",
    "\n",
    "\n",
    "\n",
    "### When you have finished this assignment , save this notebook, download it (as.ipynb) and submit it as assignment 2.\n"
   ]
  },
  {
   "cell_type": "markdown",
   "metadata": {
    "id": "TTLx5ZJE5Vh6"
   },
   "source": [
    "Lets start by importing some useful modules and we will import the data aswell."
   ]
  },
  {
   "cell_type": "code",
   "execution_count": 2,
   "metadata": {
    "id": "-_muO3bD9FYa"
   },
   "outputs": [],
   "source": [
    "import numpy as np # Always good to have...\n",
    "from sklearn.datasets import load_breast_cancer # We are going to use the Breast cancer dataset\n",
    "from sklearn.model_selection import train_test_split  # Split them data\n",
    "from sklearn.preprocessing import StandardScaler # Here we will also \"scale\" our data\n",
    "\n",
    "X, y = load_breast_cancer(return_X_y=True) # Load the dataset\n",
    "\n",
    "X_train, X_test, y_train, y_test = train_test_split(X,y, test_size=0.5, random_state=0) # Split the dataset into training and test\n"
   ]
  },
  {
   "cell_type": "markdown",
   "metadata": {
    "id": "BHVF9aLr5Vh9"
   },
   "source": [
    "So, now we have loaded the dataset, and we have split into a training set and a test set and we have standardized tat"
   ]
  },
  {
   "cell_type": "markdown",
   "metadata": {
    "id": "hsbTsoXrJCLX"
   },
   "source": [
    "In it generally good practise to \"scale/normalise\" your data before use (see p. 24 in the book why this is of importance). There are many possibilites here, but in this example we will `StandardScaler()` function. This function removes the means and scales to unit variance for each feature. (Check this for yourself, you should know how to do it, hint: np.mean() and np.var()). Also think about why we do it after the dataset is split into test and train."
   ]
  },
  {
   "cell_type": "code",
   "execution_count": 3,
   "metadata": {
    "id": "zO8NsVMhKDrU",
    "scrolled": true
   },
   "outputs": [],
   "source": [
    "scaler = StandardScaler()\n",
    "X_train = scaler.fit_transform(X_train) # We use the train data to find the scaling parameters\n",
    "X_test = scaler.transform(X_test)"
   ]
  },
  {
   "cell_type": "markdown",
   "metadata": {
    "id": "7odTXPvoK3V0"
   },
   "source": [
    "Now the data has been loaded and processed. In the next cell create a knn-classifier using 3 neighbors and use the sklearn library. Fill in the blanks"
   ]
  },
  {
   "cell_type": "code",
   "execution_count": 15,
   "metadata": {
    "id": "HqAi3mMhLvvN"
   },
   "outputs": [
    {
     "name": "stdout",
     "output_type": "stream",
     "text": [
      "0.9473684210526315\n",
      "              precision    recall  f1-score   support\n",
      "\n",
      "           0       0.88      0.97      0.92        92\n",
      "           1       0.98      0.94      0.96       193\n",
      "\n",
      "    accuracy                           0.95       285\n",
      "   macro avg       0.93      0.95      0.94       285\n",
      "weighted avg       0.95      0.95      0.95       285\n",
      "\n"
     ]
    },
    {
     "name": "stderr",
     "output_type": "stream",
     "text": [
      "C:\\Users\\sasyn\\anaconda3\\lib\\site-packages\\sklearn\\neighbors\\_classification.py:228: FutureWarning: Unlike other reduction functions (e.g. `skew`, `kurtosis`), the default behavior of `mode` typically preserves the axis it acts along. In SciPy 1.11.0, this behavior will change: the default value of `keepdims` will become False, the `axis` over which the statistic is taken will be eliminated, and the value None will no longer be accepted. Set `keepdims` to True or False to avoid this warning.\n",
      "  mode, _ = stats.mode(_y[neigh_ind, k], axis=1)\n"
     ]
    }
   ],
   "source": [
    "from sklearn.neighbors import KNeighborsClassifier\n",
    "from sklearn.metrics import accuracy_score ,f1_score , classification_report\n",
    "clf = KNeighborsClassifier(n_neighbors=3)\n",
    "clf.fit(X_train,y_train) # Fill in missing information\n",
    "y_hat = clf.predict(X_test)\n",
    "acc = accuracy_score(y_test,y_hat)\n",
    "print(acc)\n",
    "print(classification_report(y_hat,y_test))"
   ]
  },
  {
   "cell_type": "markdown",
   "metadata": {
    "id": "tiBX8tFW5ViD"
   },
   "source": [
    "Now do the same using a Decision Tree classifier. Hint: from sklearn.tree import DecisionTreeClassifier. Fill in the cell below"
   ]
  },
  {
   "cell_type": "code",
   "execution_count": 13,
   "metadata": {
    "id": "7EwGdYur5ViE"
   },
   "outputs": [
    {
     "name": "stdout",
     "output_type": "stream",
     "text": [
      "0.9228070175438596\n",
      "              precision    recall  f1-score   support\n",
      "\n",
      "           0       0.88      0.90      0.89        99\n",
      "           1       0.95      0.94      0.94       186\n",
      "\n",
      "    accuracy                           0.92       285\n",
      "   macro avg       0.91      0.92      0.92       285\n",
      "weighted avg       0.92      0.92      0.92       285\n",
      "\n"
     ]
    }
   ],
   "source": [
    "from sklearn.tree import DecisionTreeClassifier\n",
    "from sklearn.metrics import accuracy_score, classification_report\n",
    "clf = DecisionTreeClassifier()\n",
    "clf.fit(X_train,y_train)\n",
    "y_hat_tree = clf.predict(X_test)\n",
    "\n",
    "print(accuracy_score(y_test , y_hat_tree))\n",
    "\n",
    "print(classification_report(y_hat_tree, y_test))\n"
   ]
  },
  {
   "cell_type": "markdown",
   "metadata": {
    "id": "ExDDHi-15ViF"
   },
   "source": [
    "When you have finished this assignment , save this notebook and submit it as assignment 2 in Canvas.\n",
    "## The end"
   ]
  },
  {
   "cell_type": "code",
   "execution_count": null,
   "metadata": {
    "id": "DdcTWbrT5ViF"
   },
   "outputs": [],
   "source": []
  }
 ],
 "metadata": {
  "colab": {
   "include_colab_link": true,
   "provenance": []
  },
  "kernelspec": {
   "display_name": "Python 3 (ipykernel)",
   "language": "python",
   "name": "python3"
  },
  "language_info": {
   "codemirror_mode": {
    "name": "ipython",
    "version": 3
   },
   "file_extension": ".py",
   "mimetype": "text/x-python",
   "name": "python",
   "nbconvert_exporter": "python",
   "pygments_lexer": "ipython3",
   "version": "3.9.13"
  }
 },
 "nbformat": 4,
 "nbformat_minor": 1
}
