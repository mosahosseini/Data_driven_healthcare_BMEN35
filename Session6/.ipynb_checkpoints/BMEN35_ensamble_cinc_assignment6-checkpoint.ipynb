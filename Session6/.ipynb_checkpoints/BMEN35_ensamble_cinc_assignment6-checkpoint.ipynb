{
 "cells": [
  {
   "cell_type": "markdown",
   "metadata": {
    "colab_type": "text",
    "id": "view-in-github"
   },
   "source": [
    "<a href=\"https://colab.research.google.com/github/antfolk/BMEN35_2023/blob/main/Session6/BMEN35_ensamble_cinc_assignment6.ipynb\" target=\"_parent\"><img src=\"https://colab.research.google.com/assets/colab-badge.svg\" alt=\"Open In Colab\"/></a>"
   ]
  },
  {
   "cell_type": "markdown",
   "metadata": {
    "id": "YkiFi80bGKEc"
   },
   "source": [
    "# Assignment 6\n",
    "## Fill in your name below\n",
    "Alexander Andersson, BME4\n",
    "\n",
    "## Your mission is now the following:\n",
    "\n",
    "You will use data from the Computing in Cardiology challenge 2022 (as was explained in the lectures) (https://moody-challenge.physionet.org/2022/). The training set contains data from 942 patients.\n",
    "\n",
    "We have done some preprocessing of the data so you have features and labels for both **murmur** and **outcome**. The features include age, sex, weight, heigth, pregnancy status and mean, variance and skewness for the phonocardiogram at five different locations.\n",
    "\n",
    "Evaluate different ensamble methods (at least 3) from sklearn (https://scikit-learn.org/stable/modules/ensemble.html and https://scikit-learn.org/stable/modules/classes.html#module-sklearn.ensemble) and see how they perform on the CinC2022 challenge data. Take some time to read the documentation and see what options are available.\n",
    "\n",
    "As you may remember from the lecture there is quite an eloborate scoring scheme, however this is handled by the file cinc2022metric.py and the methods contained therein.\n",
    "\n",
    "**Also remeber you have two sets of labels!!! One set of labels for murmurs (Present, Unknown, Absent) and one for outcomes (Abnormal, Normal).**\n",
    "\n",
    "**Another thing you need to take into account is that the scoring functions need label probabilities of the predicted classes.**\n",
    "\n",
    "You will also need one-hot encoding of \"hard\" values for the training labels and for the test labels.\n",
    "\n",
    "We will start by uploading some files. You need to upload the files cinc2022metrics.py, feats.csv, murmur_labels.csv and outcome_labels.csv"
   ]
  },
  {
   "cell_type": "code",
   "execution_count": null,
   "metadata": {
    "id": "NRiQuM1OHKQR"
   },
   "outputs": [],
   "source": [
    "from google.colab import files\n",
    "_ = files.upload() # Upload the other files available in github under Session 6"
   ]
  },
  {
   "cell_type": "markdown",
   "metadata": {
    "id": "5YbyBrB9MKBW"
   },
   "source": [
    "Next we will import some of the libraries/modules needed. (You will need to import others later on)."
   ]
  },
  {
   "cell_type": "code",
   "execution_count": 6,
   "metadata": {},
   "outputs": [
    {
     "name": "stdout",
     "output_type": "stream",
     "text": [
      "Collecting tensorflow\n",
      "  Downloading tensorflow-2.15.0-cp311-cp311-win_amd64.whl.metadata (3.6 kB)\n",
      "Collecting tensorflow-intel==2.15.0 (from tensorflow)\n",
      "  Downloading tensorflow_intel-2.15.0-cp311-cp311-win_amd64.whl.metadata (5.1 kB)\n",
      "Collecting absl-py>=1.0.0 (from tensorflow-intel==2.15.0->tensorflow)\n",
      "  Downloading absl_py-2.0.0-py3-none-any.whl.metadata (2.3 kB)\n",
      "Collecting astunparse>=1.6.0 (from tensorflow-intel==2.15.0->tensorflow)\n",
      "  Downloading astunparse-1.6.3-py2.py3-none-any.whl (12 kB)\n",
      "Collecting flatbuffers>=23.5.26 (from tensorflow-intel==2.15.0->tensorflow)\n",
      "  Downloading flatbuffers-23.5.26-py2.py3-none-any.whl.metadata (850 bytes)\n",
      "Collecting gast!=0.5.0,!=0.5.1,!=0.5.2,>=0.2.1 (from tensorflow-intel==2.15.0->tensorflow)\n",
      "  Downloading gast-0.5.4-py3-none-any.whl (19 kB)\n",
      "Collecting google-pasta>=0.1.1 (from tensorflow-intel==2.15.0->tensorflow)\n",
      "  Downloading google_pasta-0.2.0-py3-none-any.whl (57 kB)\n",
      "     ---------------------------------------- 0.0/57.5 kB ? eta -:--:--\n",
      "     ---------------------------------------- 57.5/57.5 kB 1.5 MB/s eta 0:00:00\n",
      "Collecting h5py>=2.9.0 (from tensorflow-intel==2.15.0->tensorflow)\n",
      "  Downloading h5py-3.10.0-cp311-cp311-win_amd64.whl.metadata (2.5 kB)\n",
      "Collecting libclang>=13.0.0 (from tensorflow-intel==2.15.0->tensorflow)\n",
      "  Downloading libclang-16.0.6-py2.py3-none-win_amd64.whl.metadata (5.3 kB)\n",
      "Collecting ml-dtypes~=0.2.0 (from tensorflow-intel==2.15.0->tensorflow)\n",
      "  Downloading ml_dtypes-0.2.0-cp311-cp311-win_amd64.whl.metadata (20 kB)\n",
      "Requirement already satisfied: numpy<2.0.0,>=1.23.5 in c:\\users\\sasyn\\anaconda3\\envs\\ml\\lib\\site-packages (from tensorflow-intel==2.15.0->tensorflow) (1.26.2)\n",
      "Collecting opt-einsum>=2.3.2 (from tensorflow-intel==2.15.0->tensorflow)\n",
      "  Downloading opt_einsum-3.3.0-py3-none-any.whl (65 kB)\n",
      "     ---------------------------------------- 0.0/65.5 kB ? eta -:--:--\n",
      "     ---------------------------------------- 65.5/65.5 kB 3.7 MB/s eta 0:00:00\n",
      "Requirement already satisfied: packaging in c:\\users\\sasyn\\anaconda3\\envs\\ml\\lib\\site-packages (from tensorflow-intel==2.15.0->tensorflow) (23.1)\n",
      "Collecting protobuf!=4.21.0,!=4.21.1,!=4.21.2,!=4.21.3,!=4.21.4,!=4.21.5,<5.0.0dev,>=3.20.3 (from tensorflow-intel==2.15.0->tensorflow)\n",
      "  Downloading protobuf-4.25.1-cp310-abi3-win_amd64.whl.metadata (541 bytes)\n",
      "Requirement already satisfied: setuptools in c:\\users\\sasyn\\anaconda3\\envs\\ml\\lib\\site-packages (from tensorflow-intel==2.15.0->tensorflow) (68.0.0)\n",
      "Requirement already satisfied: six>=1.12.0 in c:\\users\\sasyn\\anaconda3\\envs\\ml\\lib\\site-packages (from tensorflow-intel==2.15.0->tensorflow) (1.16.0)\n",
      "Collecting termcolor>=1.1.0 (from tensorflow-intel==2.15.0->tensorflow)\n",
      "  Downloading termcolor-2.3.0-py3-none-any.whl (6.9 kB)\n",
      "Requirement already satisfied: typing-extensions>=3.6.6 in c:\\users\\sasyn\\anaconda3\\envs\\ml\\lib\\site-packages (from tensorflow-intel==2.15.0->tensorflow) (4.7.1)\n",
      "Collecting wrapt<1.15,>=1.11.0 (from tensorflow-intel==2.15.0->tensorflow)\n",
      "  Downloading wrapt-1.14.1-cp311-cp311-win_amd64.whl.metadata (6.9 kB)\n",
      "Collecting tensorflow-io-gcs-filesystem>=0.23.1 (from tensorflow-intel==2.15.0->tensorflow)\n",
      "  Downloading tensorflow_io_gcs_filesystem-0.31.0-cp311-cp311-win_amd64.whl (1.5 MB)\n",
      "     ---------------------------------------- 0.0/1.5 MB ? eta -:--:--\n",
      "     ----------------- ---------------------- 0.7/1.5 MB 20.5 MB/s eta 0:00:01\n",
      "     ---------------------------------------- 1.5/1.5 MB 23.4 MB/s eta 0:00:00\n",
      "Collecting grpcio<2.0,>=1.24.3 (from tensorflow-intel==2.15.0->tensorflow)\n",
      "  Downloading grpcio-1.59.3-cp311-cp311-win_amd64.whl.metadata (4.2 kB)\n",
      "Collecting tensorboard<2.16,>=2.15 (from tensorflow-intel==2.15.0->tensorflow)\n",
      "  Downloading tensorboard-2.15.1-py3-none-any.whl.metadata (1.7 kB)\n",
      "Collecting tensorflow-estimator<2.16,>=2.15.0 (from tensorflow-intel==2.15.0->tensorflow)\n",
      "  Downloading tensorflow_estimator-2.15.0-py2.py3-none-any.whl.metadata (1.3 kB)\n",
      "Collecting keras<2.16,>=2.15.0 (from tensorflow-intel==2.15.0->tensorflow)\n",
      "  Downloading keras-2.15.0-py3-none-any.whl.metadata (2.4 kB)\n",
      "Requirement already satisfied: wheel<1.0,>=0.23.0 in c:\\users\\sasyn\\anaconda3\\envs\\ml\\lib\\site-packages (from astunparse>=1.6.0->tensorflow-intel==2.15.0->tensorflow) (0.41.2)\n",
      "Collecting google-auth<3,>=1.6.3 (from tensorboard<2.16,>=2.15->tensorflow-intel==2.15.0->tensorflow)\n",
      "  Downloading google_auth-2.23.4-py2.py3-none-any.whl.metadata (4.7 kB)\n",
      "Collecting google-auth-oauthlib<2,>=0.5 (from tensorboard<2.16,>=2.15->tensorflow-intel==2.15.0->tensorflow)\n",
      "  Downloading google_auth_oauthlib-1.1.0-py2.py3-none-any.whl.metadata (2.7 kB)\n",
      "Collecting markdown>=2.6.8 (from tensorboard<2.16,>=2.15->tensorflow-intel==2.15.0->tensorflow)\n",
      "  Downloading Markdown-3.5.1-py3-none-any.whl.metadata (7.1 kB)\n",
      "Collecting protobuf!=4.21.0,!=4.21.1,!=4.21.2,!=4.21.3,!=4.21.4,!=4.21.5,<5.0.0dev,>=3.20.3 (from tensorflow-intel==2.15.0->tensorflow)\n",
      "  Downloading protobuf-4.23.4-cp310-abi3-win_amd64.whl.metadata (540 bytes)\n",
      "Requirement already satisfied: requests<3,>=2.21.0 in c:\\users\\sasyn\\anaconda3\\envs\\ml\\lib\\site-packages (from tensorboard<2.16,>=2.15->tensorflow-intel==2.15.0->tensorflow) (2.31.0)\n",
      "Collecting tensorboard-data-server<0.8.0,>=0.7.0 (from tensorboard<2.16,>=2.15->tensorflow-intel==2.15.0->tensorflow)\n",
      "  Downloading tensorboard_data_server-0.7.2-py3-none-any.whl.metadata (1.1 kB)\n",
      "Collecting werkzeug>=1.0.1 (from tensorboard<2.16,>=2.15->tensorflow-intel==2.15.0->tensorflow)\n",
      "  Downloading werkzeug-3.0.1-py3-none-any.whl.metadata (4.1 kB)\n",
      "Collecting cachetools<6.0,>=2.0.0 (from google-auth<3,>=1.6.3->tensorboard<2.16,>=2.15->tensorflow-intel==2.15.0->tensorflow)\n",
      "  Downloading cachetools-5.3.2-py3-none-any.whl.metadata (5.2 kB)\n",
      "Collecting pyasn1-modules>=0.2.1 (from google-auth<3,>=1.6.3->tensorboard<2.16,>=2.15->tensorflow-intel==2.15.0->tensorflow)\n",
      "  Downloading pyasn1_modules-0.3.0-py2.py3-none-any.whl (181 kB)\n",
      "     ---------------------------------------- 0.0/181.3 kB ? eta -:--:--\n",
      "     ---------------------------------------- 181.3/181.3 kB ? eta 0:00:00\n",
      "Collecting rsa<5,>=3.1.4 (from google-auth<3,>=1.6.3->tensorboard<2.16,>=2.15->tensorflow-intel==2.15.0->tensorflow)\n",
      "  Downloading rsa-4.9-py3-none-any.whl (34 kB)\n",
      "Collecting requests-oauthlib>=0.7.0 (from google-auth-oauthlib<2,>=0.5->tensorboard<2.16,>=2.15->tensorflow-intel==2.15.0->tensorflow)\n",
      "  Downloading requests_oauthlib-1.3.1-py2.py3-none-any.whl (23 kB)\n",
      "Requirement already satisfied: charset-normalizer<4,>=2 in c:\\users\\sasyn\\anaconda3\\envs\\ml\\lib\\site-packages (from requests<3,>=2.21.0->tensorboard<2.16,>=2.15->tensorflow-intel==2.15.0->tensorflow) (2.0.4)\n",
      "Requirement already satisfied: idna<4,>=2.5 in c:\\users\\sasyn\\anaconda3\\envs\\ml\\lib\\site-packages (from requests<3,>=2.21.0->tensorboard<2.16,>=2.15->tensorflow-intel==2.15.0->tensorflow) (3.4)\n",
      "Requirement already satisfied: urllib3<3,>=1.21.1 in c:\\users\\sasyn\\anaconda3\\envs\\ml\\lib\\site-packages (from requests<3,>=2.21.0->tensorboard<2.16,>=2.15->tensorflow-intel==2.15.0->tensorflow) (1.26.18)\n",
      "Requirement already satisfied: certifi>=2017.4.17 in c:\\users\\sasyn\\anaconda3\\envs\\ml\\lib\\site-packages (from requests<3,>=2.21.0->tensorboard<2.16,>=2.15->tensorflow-intel==2.15.0->tensorflow) (2023.7.22)\n",
      "Requirement already satisfied: MarkupSafe>=2.1.1 in c:\\users\\sasyn\\anaconda3\\envs\\ml\\lib\\site-packages (from werkzeug>=1.0.1->tensorboard<2.16,>=2.15->tensorflow-intel==2.15.0->tensorflow) (2.1.1)\n",
      "Collecting pyasn1<0.6.0,>=0.4.6 (from pyasn1-modules>=0.2.1->google-auth<3,>=1.6.3->tensorboard<2.16,>=2.15->tensorflow-intel==2.15.0->tensorflow)\n",
      "  Downloading pyasn1-0.5.1-py2.py3-none-any.whl.metadata (8.6 kB)\n",
      "Collecting oauthlib>=3.0.0 (from requests-oauthlib>=0.7.0->google-auth-oauthlib<2,>=0.5->tensorboard<2.16,>=2.15->tensorflow-intel==2.15.0->tensorflow)\n",
      "  Downloading oauthlib-3.2.2-py3-none-any.whl (151 kB)\n",
      "     ---------------------------------------- 0.0/151.7 kB ? eta -:--:--\n",
      "     -------------------------------------- 151.7/151.7 kB 8.8 MB/s eta 0:00:00\n",
      "Downloading tensorflow-2.15.0-cp311-cp311-win_amd64.whl (2.1 kB)\n",
      "Downloading tensorflow_intel-2.15.0-cp311-cp311-win_amd64.whl (300.9 MB)\n",
      "   ---------------------------------------- 0.0/300.9 MB ? eta -:--:--\n",
      "   ---------------------------------------- 1.4/300.9 MB 30.1 MB/s eta 0:00:10\n",
      "   ---------------------------------------- 2.4/300.9 MB 30.9 MB/s eta 0:00:10\n",
      "    --------------------------------------- 3.9/300.9 MB 31.1 MB/s eta 0:00:10\n",
      "    --------------------------------------- 5.2/300.9 MB 30.4 MB/s eta 0:00:10\n",
      "    --------------------------------------- 6.6/300.9 MB 32.6 MB/s eta 0:00:10\n",
      "   - -------------------------------------- 8.3/300.9 MB 33.3 MB/s eta 0:00:09\n",
      "   - -------------------------------------- 9.9/300.9 MB 31.5 MB/s eta 0:00:10\n",
      "   - -------------------------------------- 11.4/300.9 MB 31.2 MB/s eta 0:00:10\n",
      "   - -------------------------------------- 13.0/300.9 MB 32.7 MB/s eta 0:00:09\n",
      "   - -------------------------------------- 14.6/300.9 MB 32.8 MB/s eta 0:00:09\n",
      "   -- ------------------------------------- 16.0/300.9 MB 32.8 MB/s eta 0:00:09\n",
      "   -- ------------------------------------- 17.7/300.9 MB 32.8 MB/s eta 0:00:09\n",
      "   -- ------------------------------------- 19.3/300.9 MB 31.2 MB/s eta 0:00:10\n",
      "   -- ------------------------------------- 20.6/300.9 MB 32.7 MB/s eta 0:00:09\n",
      "   -- ------------------------------------- 22.1/300.9 MB 32.7 MB/s eta 0:00:09\n",
      "   --- ------------------------------------ 23.5/300.9 MB 31.2 MB/s eta 0:00:09\n",
      "   --- ------------------------------------ 25.4/300.9 MB 32.7 MB/s eta 0:00:09\n",
      "   --- ------------------------------------ 26.7/300.9 MB 34.4 MB/s eta 0:00:08\n",
      "   --- ------------------------------------ 27.9/300.9 MB 34.4 MB/s eta 0:00:08\n",
      "   --- ------------------------------------ 29.6/300.9 MB 32.8 MB/s eta 0:00:09\n",
      "   ---- ----------------------------------- 31.3/300.9 MB 32.8 MB/s eta 0:00:09\n",
      "   ---- ----------------------------------- 32.8/300.9 MB 32.7 MB/s eta 0:00:09\n",
      "   ---- ----------------------------------- 34.4/300.9 MB 32.7 MB/s eta 0:00:09\n",
      "   ---- ----------------------------------- 35.8/300.9 MB 32.7 MB/s eta 0:00:09\n",
      "   ----- ---------------------------------- 37.7/300.9 MB 32.8 MB/s eta 0:00:09\n",
      "   ----- ---------------------------------- 39.1/300.9 MB 31.2 MB/s eta 0:00:09\n",
      "   ----- ---------------------------------- 40.7/300.9 MB 29.7 MB/s eta 0:00:09\n",
      "   ----- ---------------------------------- 42.2/300.9 MB 31.2 MB/s eta 0:00:09\n",
      "   ----- ---------------------------------- 43.9/300.9 MB 31.2 MB/s eta 0:00:09\n",
      "   ------ --------------------------------- 45.7/300.9 MB 32.8 MB/s eta 0:00:08\n",
      "   ------ --------------------------------- 47.5/300.9 MB 31.2 MB/s eta 0:00:09\n",
      "   ------ --------------------------------- 48.4/300.9 MB 29.7 MB/s eta 0:00:09\n",
      "   ------ --------------------------------- 50.3/300.9 MB 31.2 MB/s eta 0:00:09\n",
      "   ------ --------------------------------- 51.9/300.9 MB 29.7 MB/s eta 0:00:09\n",
      "   ------- -------------------------------- 53.6/300.9 MB 29.8 MB/s eta 0:00:09\n",
      "   ------- -------------------------------- 55.3/300.9 MB 31.2 MB/s eta 0:00:08\n",
      "   ------- -------------------------------- 56.7/300.9 MB 29.7 MB/s eta 0:00:09\n",
      "   ------- -------------------------------- 58.3/300.9 MB 31.2 MB/s eta 0:00:08\n",
      "   ------- -------------------------------- 59.5/300.9 MB 31.2 MB/s eta 0:00:08\n",
      "   -------- ------------------------------- 61.4/300.9 MB 31.2 MB/s eta 0:00:08\n",
      "   -------- ------------------------------- 62.3/300.9 MB 29.8 MB/s eta 0:00:09\n",
      "   -------- ------------------------------- 63.3/300.9 MB 28.5 MB/s eta 0:00:09\n",
      "   -------- ------------------------------- 64.6/300.9 MB 28.5 MB/s eta 0:00:09\n",
      "   -------- ------------------------------- 65.9/300.9 MB 28.5 MB/s eta 0:00:09\n",
      "   -------- ------------------------------- 67.1/300.9 MB 28.5 MB/s eta 0:00:09\n",
      "   --------- ------------------------------ 68.1/300.9 MB 26.2 MB/s eta 0:00:09\n",
      "   --------- ------------------------------ 69.5/300.9 MB 27.3 MB/s eta 0:00:09\n",
      "   --------- ------------------------------ 71.0/300.9 MB 27.3 MB/s eta 0:00:09\n",
      "   --------- ------------------------------ 72.5/300.9 MB 27.3 MB/s eta 0:00:09\n",
      "   --------- ------------------------------ 74.3/300.9 MB 29.7 MB/s eta 0:00:08\n",
      "   ---------- ----------------------------- 75.9/300.9 MB 29.7 MB/s eta 0:00:08\n",
      "   ---------- ----------------------------- 76.2/300.9 MB 29.7 MB/s eta 0:00:08\n",
      "   ---------- ----------------------------- 76.2/300.9 MB 29.7 MB/s eta 0:00:08\n",
      "   ---------- ----------------------------- 76.2/300.9 MB 29.7 MB/s eta 0:00:08\n",
      "   ---------- ----------------------------- 76.2/300.9 MB 29.7 MB/s eta 0:00:08\n",
      "   ---------- ----------------------------- 77.0/300.9 MB 18.2 MB/s eta 0:00:13\n",
      "   ---------- ----------------------------- 78.7/300.9 MB 19.3 MB/s eta 0:00:12\n",
      "   ---------- ----------------------------- 80.4/300.9 MB 19.8 MB/s eta 0:00:12\n",
      "   ---------- ----------------------------- 82.0/300.9 MB 20.5 MB/s eta 0:00:11\n",
      "   ----------- ---------------------------- 83.7/300.9 MB 20.5 MB/s eta 0:00:11\n",
      "   ----------- ---------------------------- 85.8/300.9 MB 21.8 MB/s eta 0:00:10\n",
      "   ----------- ---------------------------- 87.5/300.9 MB 38.6 MB/s eta 0:00:06\n",
      "   ----------- ---------------------------- 89.3/300.9 MB 38.6 MB/s eta 0:00:06\n",
      "   ------------ --------------------------- 91.7/300.9 MB 40.9 MB/s eta 0:00:06\n",
      "   ------------ --------------------------- 94.7/300.9 MB 46.7 MB/s eta 0:00:05\n",
      "   ------------ --------------------------- 96.6/300.9 MB 46.7 MB/s eta 0:00:05\n",
      "   ------------- -------------------------- 98.6/300.9 MB 50.4 MB/s eta 0:00:05\n",
      "   ------------- ------------------------- 100.3/300.9 MB 50.4 MB/s eta 0:00:04\n",
      "   ------------- ------------------------- 102.2/300.9 MB 43.7 MB/s eta 0:00:05\n",
      "   ------------- ------------------------- 103.4/300.9 MB 40.9 MB/s eta 0:00:05\n",
      "   ------------- ------------------------- 104.8/300.9 MB 38.5 MB/s eta 0:00:06\n",
      "   ------------- ------------------------- 106.3/300.9 MB 36.4 MB/s eta 0:00:06\n",
      "   ------------- ------------------------- 107.9/300.9 MB 36.4 MB/s eta 0:00:06\n",
      "   -------------- ------------------------ 109.3/300.9 MB 34.4 MB/s eta 0:00:06\n",
      "   -------------- ------------------------ 111.0/300.9 MB 34.4 MB/s eta 0:00:06\n",
      "   -------------- ------------------------ 112.7/300.9 MB 31.1 MB/s eta 0:00:07\n",
      "   -------------- ------------------------ 114.1/300.9 MB 32.7 MB/s eta 0:00:06\n",
      "   -------------- ------------------------ 115.4/300.9 MB 32.7 MB/s eta 0:00:06\n",
      "   --------------- ----------------------- 117.1/300.9 MB 34.4 MB/s eta 0:00:06\n",
      "   --------------- ----------------------- 118.7/300.9 MB 31.2 MB/s eta 0:00:06\n",
      "   --------------- ----------------------- 120.0/300.9 MB 32.8 MB/s eta 0:00:06\n",
      "   --------------- ----------------------- 121.4/300.9 MB 32.8 MB/s eta 0:00:06\n",
      "   --------------- ----------------------- 122.8/300.9 MB 32.8 MB/s eta 0:00:06\n",
      "   ---------------- ---------------------- 124.2/300.9 MB 31.2 MB/s eta 0:00:06\n",
      "   ---------------- ---------------------- 125.7/300.9 MB 31.2 MB/s eta 0:00:06\n",
      "   ---------------- ---------------------- 127.6/300.9 MB 31.2 MB/s eta 0:00:06\n",
      "   ---------------- ---------------------- 129.6/300.9 MB 31.2 MB/s eta 0:00:06\n",
      "   ----------------- --------------------- 131.2/300.9 MB 29.8 MB/s eta 0:00:06\n",
      "   ----------------- --------------------- 132.6/300.9 MB 32.7 MB/s eta 0:00:06\n",
      "   ----------------- --------------------- 134.0/300.9 MB 31.2 MB/s eta 0:00:06\n",
      "   ----------------- --------------------- 135.5/300.9 MB 32.8 MB/s eta 0:00:06\n",
      "   ----------------- --------------------- 136.8/300.9 MB 31.2 MB/s eta 0:00:06\n",
      "   ----------------- --------------------- 138.3/300.9 MB 31.2 MB/s eta 0:00:06\n",
      "   ------------------ -------------------- 139.8/300.9 MB 32.8 MB/s eta 0:00:05\n",
      "   ------------------ -------------------- 141.5/300.9 MB 34.4 MB/s eta 0:00:05\n",
      "   ------------------ -------------------- 143.4/300.9 MB 34.4 MB/s eta 0:00:05\n",
      "   ------------------ -------------------- 145.0/300.9 MB 32.7 MB/s eta 0:00:05\n",
      "   ------------------ -------------------- 146.3/300.9 MB 34.6 MB/s eta 0:00:05\n",
      "   ------------------- ------------------- 147.9/300.9 MB 36.3 MB/s eta 0:00:05\n",
      "   ------------------- ------------------- 149.6/300.9 MB 34.4 MB/s eta 0:00:05\n",
      "   ------------------- ------------------- 150.9/300.9 MB 32.8 MB/s eta 0:00:05\n",
      "   ------------------- ------------------- 152.4/300.9 MB 32.7 MB/s eta 0:00:05\n",
      "   ------------------- ------------------- 154.0/300.9 MB 32.7 MB/s eta 0:00:05\n",
      "   -------------------- ------------------ 155.1/300.9 MB 32.8 MB/s eta 0:00:05\n",
      "   -------------------- ------------------ 156.7/300.9 MB 32.7 MB/s eta 0:00:05\n",
      "   -------------------- ------------------ 158.2/300.9 MB 31.2 MB/s eta 0:00:05\n",
      "   -------------------- ------------------ 159.3/300.9 MB 31.2 MB/s eta 0:00:05\n",
      "   -------------------- ------------------ 160.2/300.9 MB 28.5 MB/s eta 0:00:05\n",
      "   --------------------- ----------------- 163.4/300.9 MB 31.2 MB/s eta 0:00:05\n",
      "   --------------------- ----------------- 164.9/300.9 MB 31.1 MB/s eta 0:00:05\n",
      "   --------------------- ----------------- 166.6/300.9 MB 32.8 MB/s eta 0:00:05\n",
      "   --------------------- ----------------- 168.0/300.9 MB 32.8 MB/s eta 0:00:05\n",
      "   --------------------- ----------------- 169.4/300.9 MB 32.8 MB/s eta 0:00:05\n",
      "   ---------------------- ---------------- 171.3/300.9 MB 36.4 MB/s eta 0:00:04\n",
      "   ---------------------- ---------------- 173.0/300.9 MB 34.4 MB/s eta 0:00:04\n",
      "   ---------------------- ---------------- 174.5/300.9 MB 32.8 MB/s eta 0:00:04\n",
      "   ---------------------- ---------------- 176.1/300.9 MB 34.4 MB/s eta 0:00:04\n",
      "   ---------------------- ---------------- 177.4/300.9 MB 31.2 MB/s eta 0:00:04\n",
      "   ----------------------- --------------- 179.0/300.9 MB 32.8 MB/s eta 0:00:04\n",
      "   ----------------------- --------------- 180.4/300.9 MB 31.2 MB/s eta 0:00:04\n",
      "   ----------------------- --------------- 181.8/300.9 MB 31.2 MB/s eta 0:00:04\n",
      "   ----------------------- --------------- 183.3/300.9 MB 31.2 MB/s eta 0:00:04\n",
      "   ----------------------- --------------- 184.5/300.9 MB 28.5 MB/s eta 0:00:05\n",
      "   ------------------------ -------------- 185.9/300.9 MB 28.5 MB/s eta 0:00:05\n",
      "   ------------------------ -------------- 187.1/300.9 MB 29.8 MB/s eta 0:00:04\n",
      "   ------------------------ -------------- 188.4/300.9 MB 29.7 MB/s eta 0:00:04\n",
      "   ------------------------ -------------- 190.1/300.9 MB 28.4 MB/s eta 0:00:04\n",
      "   ------------------------ -------------- 191.7/300.9 MB 29.7 MB/s eta 0:00:04\n",
      "   ------------------------- ------------- 193.2/300.9 MB 29.8 MB/s eta 0:00:04\n",
      "   ------------------------- ------------- 194.6/300.9 MB 29.8 MB/s eta 0:00:04\n",
      "   ------------------------- ------------- 196.4/300.9 MB 32.8 MB/s eta 0:00:04\n",
      "   ------------------------- ------------- 197.6/300.9 MB 31.2 MB/s eta 0:00:04\n",
      "   ------------------------- ------------- 199.0/300.9 MB 31.2 MB/s eta 0:00:04\n",
      "   ------------------------- ------------- 200.5/300.9 MB 32.7 MB/s eta 0:00:04\n",
      "   -------------------------- ------------ 201.8/300.9 MB 31.2 MB/s eta 0:00:04\n",
      "   -------------------------- ------------ 203.1/300.9 MB 31.1 MB/s eta 0:00:04\n",
      "   -------------------------- ------------ 204.7/300.9 MB 29.7 MB/s eta 0:00:04\n",
      "   -------------------------- ------------ 206.1/300.9 MB 28.5 MB/s eta 0:00:04\n",
      "   -------------------------- ------------ 207.7/300.9 MB 29.7 MB/s eta 0:00:04\n",
      "   --------------------------- ----------- 208.9/300.9 MB 29.7 MB/s eta 0:00:04\n",
      "   --------------------------- ----------- 210.3/300.9 MB 31.2 MB/s eta 0:00:03\n",
      "   --------------------------- ----------- 211.9/300.9 MB 31.2 MB/s eta 0:00:03\n",
      "   --------------------------- ----------- 213.6/300.9 MB 31.2 MB/s eta 0:00:03\n",
      "   --------------------------- ----------- 215.3/300.9 MB 29.7 MB/s eta 0:00:03\n",
      "   ---------------------------- ---------- 217.1/300.9 MB 31.2 MB/s eta 0:00:03\n",
      "   ---------------------------- ---------- 218.1/300.9 MB 31.1 MB/s eta 0:00:03\n",
      "   ---------------------------- ---------- 219.2/300.9 MB 31.2 MB/s eta 0:00:03\n",
      "   ---------------------------- ---------- 220.2/300.9 MB 29.7 MB/s eta 0:00:03\n",
      "   ---------------------------- ---------- 221.3/300.9 MB 28.4 MB/s eta 0:00:03\n",
      "   ---------------------------- ---------- 222.0/300.9 MB 25.2 MB/s eta 0:00:04\n",
      "   ---------------------------- ---------- 223.6/300.9 MB 26.2 MB/s eta 0:00:03\n",
      "   ----------------------------- --------- 225.0/300.9 MB 25.2 MB/s eta 0:00:04\n",
      "   ----------------------------- --------- 226.5/300.9 MB 26.2 MB/s eta 0:00:03\n",
      "   ----------------------------- --------- 228.0/300.9 MB 26.2 MB/s eta 0:00:03\n",
      "   ----------------------------- --------- 229.6/300.9 MB 28.5 MB/s eta 0:00:03\n",
      "   ----------------------------- --------- 231.3/300.9 MB 29.8 MB/s eta 0:00:03\n",
      "   ------------------------------ -------- 232.5/300.9 MB 31.2 MB/s eta 0:00:03\n",
      "   ------------------------------ -------- 233.8/300.9 MB 31.2 MB/s eta 0:00:03\n",
      "   ------------------------------ -------- 235.2/300.9 MB 32.8 MB/s eta 0:00:03\n",
      "   ------------------------------ -------- 236.5/300.9 MB 31.2 MB/s eta 0:00:03\n",
      "   ------------------------------ -------- 238.2/300.9 MB 31.2 MB/s eta 0:00:03\n",
      "   ------------------------------- ------- 240.0/300.9 MB 31.1 MB/s eta 0:00:02\n",
      "   ------------------------------- ------- 241.4/300.9 MB 31.2 MB/s eta 0:00:02\n",
      "   ------------------------------- ------- 242.8/300.9 MB 32.8 MB/s eta 0:00:02\n",
      "   ------------------------------- ------- 244.2/300.9 MB 31.2 MB/s eta 0:00:02\n",
      "   ------------------------------- ------- 245.6/300.9 MB 32.8 MB/s eta 0:00:02\n",
      "   ------------------------------- ------- 246.9/300.9 MB 31.2 MB/s eta 0:00:02\n",
      "   -------------------------------- ------ 248.1/300.9 MB 31.2 MB/s eta 0:00:02\n",
      "   -------------------------------- ------ 249.8/300.9 MB 29.7 MB/s eta 0:00:02\n",
      "   -------------------------------- ------ 251.2/300.9 MB 31.2 MB/s eta 0:00:02\n",
      "   -------------------------------- ------ 253.1/300.9 MB 31.2 MB/s eta 0:00:02\n",
      "   -------------------------------- ------ 254.4/300.9 MB 31.2 MB/s eta 0:00:02\n",
      "   --------------------------------- ----- 256.0/300.9 MB 31.2 MB/s eta 0:00:02\n",
      "   --------------------------------- ----- 257.6/300.9 MB 32.8 MB/s eta 0:00:02\n",
      "   --------------------------------- ----- 259.0/300.9 MB 32.7 MB/s eta 0:00:02\n",
      "   --------------------------------- ----- 260.6/300.9 MB 32.7 MB/s eta 0:00:02\n",
      "   --------------------------------- ----- 261.7/300.9 MB 31.2 MB/s eta 0:00:02\n",
      "   ---------------------------------- ---- 263.0/300.9 MB 29.7 MB/s eta 0:00:02\n",
      "   ---------------------------------- ---- 264.1/300.9 MB 31.2 MB/s eta 0:00:02\n",
      "   ---------------------------------- ---- 264.1/300.9 MB 31.2 MB/s eta 0:00:02\n",
      "   ---------------------------------- ---- 264.1/300.9 MB 31.2 MB/s eta 0:00:02\n",
      "   ---------------------------------- ---- 264.1/300.9 MB 31.2 MB/s eta 0:00:02\n",
      "   ---------------------------------- ---- 264.1/300.9 MB 31.2 MB/s eta 0:00:02\n",
      "   ---------------------------------- ---- 265.2/300.9 MB 19.3 MB/s eta 0:00:02\n",
      "   ---------------------------------- ---- 267.2/300.9 MB 20.5 MB/s eta 0:00:02\n",
      "   ---------------------------------- ---- 269.4/300.9 MB 21.9 MB/s eta 0:00:02\n",
      "   ----------------------------------- --- 272.4/300.9 MB 24.2 MB/s eta 0:00:02\n",
      "   ----------------------------------- --- 274.0/300.9 MB 24.2 MB/s eta 0:00:02\n",
      "   ----------------------------------- --- 276.0/300.9 MB 50.4 MB/s eta 0:00:01\n",
      "   ----------------------------------- --- 277.6/300.9 MB 43.7 MB/s eta 0:00:01\n",
      "   ------------------------------------ -- 278.9/300.9 MB 40.9 MB/s eta 0:00:01\n",
      "   ------------------------------------ -- 280.6/300.9 MB 38.5 MB/s eta 0:00:01\n",
      "   ------------------------------------ -- 281.6/300.9 MB 34.6 MB/s eta 0:00:01\n",
      "   ------------------------------------ -- 283.6/300.9 MB 32.8 MB/s eta 0:00:01\n",
      "   ------------------------------------ -- 285.2/300.9 MB 32.7 MB/s eta 0:00:01\n",
      "   ------------------------------------- - 286.8/300.9 MB 32.7 MB/s eta 0:00:01\n",
      "   ------------------------------------- - 288.6/300.9 MB 31.2 MB/s eta 0:00:01\n",
      "   ------------------------------------- - 290.4/300.9 MB 34.6 MB/s eta 0:00:01\n",
      "   ------------------------------------- - 291.9/300.9 MB 34.4 MB/s eta 0:00:01\n",
      "   --------------------------------------  293.5/300.9 MB 31.2 MB/s eta 0:00:01\n",
      "   --------------------------------------  295.1/300.9 MB 31.2 MB/s eta 0:00:01\n",
      "   --------------------------------------  296.8/300.9 MB 31.2 MB/s eta 0:00:01\n",
      "   --------------------------------------  298.7/300.9 MB 31.2 MB/s eta 0:00:01\n",
      "   --------------------------------------  300.1/300.9 MB 31.1 MB/s eta 0:00:01\n",
      "   --------------------------------------  300.9/300.9 MB 31.2 MB/s eta 0:00:01\n",
      "   --------------------------------------  300.9/300.9 MB 31.2 MB/s eta 0:00:01\n",
      "   --------------------------------------  300.9/300.9 MB 31.2 MB/s eta 0:00:01\n",
      "   --------------------------------------  300.9/300.9 MB 31.2 MB/s eta 0:00:01\n",
      "   --------------------------------------  300.9/300.9 MB 31.2 MB/s eta 0:00:01\n",
      "   --------------------------------------  300.9/300.9 MB 31.2 MB/s eta 0:00:01\n",
      "   --------------------------------------  300.9/300.9 MB 31.2 MB/s eta 0:00:01\n",
      "   --------------------------------------  300.9/300.9 MB 31.2 MB/s eta 0:00:01\n",
      "   --------------------------------------  300.9/300.9 MB 31.2 MB/s eta 0:00:01\n",
      "   --------------------------------------  300.9/300.9 MB 31.2 MB/s eta 0:00:01\n",
      "   --------------------------------------  300.9/300.9 MB 31.2 MB/s eta 0:00:01\n",
      "   --------------------------------------  300.9/300.9 MB 31.2 MB/s eta 0:00:01\n",
      "   --------------------------------------  300.9/300.9 MB 31.2 MB/s eta 0:00:01\n",
      "   --------------------------------------  300.9/300.9 MB 31.2 MB/s eta 0:00:01\n",
      "   --------------------------------------  300.9/300.9 MB 31.2 MB/s eta 0:00:01\n",
      "   --------------------------------------  300.9/300.9 MB 31.2 MB/s eta 0:00:01\n",
      "   --------------------------------------  300.9/300.9 MB 31.2 MB/s eta 0:00:01\n",
      "   ---------------------------------------- 300.9/300.9 MB 9.2 MB/s eta 0:00:00\n",
      "Downloading absl_py-2.0.0-py3-none-any.whl (130 kB)\n",
      "   ---------------------------------------- 0.0/130.2 kB ? eta -:--:--\n",
      "   ---------------------------------------- 130.2/130.2 kB 7.5 MB/s eta 0:00:00\n",
      "Downloading flatbuffers-23.5.26-py2.py3-none-any.whl (26 kB)\n",
      "Downloading grpcio-1.59.3-cp311-cp311-win_amd64.whl (3.7 MB)\n",
      "   ---------------------------------------- 0.0/3.7 MB ? eta -:--:--\n",
      "   ---------------------------------------- 0.0/3.7 MB ? eta -:--:--\n",
      "   ---------------------------------------- 0.0/3.7 MB ? eta -:--:--\n",
      "   ---------------------------------------- 0.0/3.7 MB ? eta -:--:--\n",
      "   ---------------------------------------- 0.0/3.7 MB ? eta -:--:--\n",
      "   ----------- ---------------------------- 1.1/3.7 MB 66.6 MB/s eta 0:00:01\n",
      "   ------------------------------------ --- 3.3/3.7 MB 42.7 MB/s eta 0:00:01\n",
      "   ---------------------------------------- 3.7/3.7 MB 33.3 MB/s eta 0:00:00\n",
      "Downloading h5py-3.10.0-cp311-cp311-win_amd64.whl (2.7 MB)\n",
      "   ---------------------------------------- 0.0/2.7 MB ? eta -:--:--\n",
      "   --------------------- ------------------ 1.4/2.7 MB 30.5 MB/s eta 0:00:01\n",
      "   ---------------------------------------  2.7/2.7 MB 33.7 MB/s eta 0:00:01\n",
      "   ---------------------------------------- 2.7/2.7 MB 24.2 MB/s eta 0:00:00\n",
      "Downloading keras-2.15.0-py3-none-any.whl (1.7 MB)\n",
      "   ---------------------------------------- 0.0/1.7 MB ? eta -:--:--\n",
      "   ---------------------------------------  1.7/1.7 MB 36.2 MB/s eta 0:00:01\n",
      "   ---------------------------------------- 1.7/1.7 MB 27.0 MB/s eta 0:00:00\n",
      "Downloading libclang-16.0.6-py2.py3-none-win_amd64.whl (24.4 MB)\n",
      "   ---------------------------------------- 0.0/24.4 MB ? eta -:--:--\n",
      "   -- ------------------------------------- 1.8/24.4 MB 38.3 MB/s eta 0:00:01\n",
      "   ------ --------------------------------- 3.9/24.4 MB 30.7 MB/s eta 0:00:01\n",
      "   -------- ------------------------------- 5.2/24.4 MB 32.8 MB/s eta 0:00:01\n",
      "   ----------- ---------------------------- 6.8/24.4 MB 33.3 MB/s eta 0:00:01\n",
      "   ------------- -------------------------- 8.5/24.4 MB 33.8 MB/s eta 0:00:01\n",
      "   --------------- ------------------------ 9.7/24.4 MB 32.6 MB/s eta 0:00:01\n",
      "   ------------------ --------------------- 11.5/24.4 MB 31.2 MB/s eta 0:00:01\n",
      "   -------------------- ------------------- 12.8/24.4 MB 32.8 MB/s eta 0:00:01\n",
      "   ----------------------- ---------------- 14.1/24.4 MB 32.7 MB/s eta 0:00:01\n",
      "   ------------------------- -------------- 15.3/24.4 MB 32.8 MB/s eta 0:00:01\n",
      "   --------------------------- ------------ 16.7/24.4 MB 32.8 MB/s eta 0:00:01\n",
      "   ----------------------------- ---------- 17.9/24.4 MB 32.8 MB/s eta 0:00:01\n",
      "   ------------------------------- -------- 19.4/24.4 MB 31.2 MB/s eta 0:00:01\n",
      "   ---------------------------------- ----- 20.9/24.4 MB 31.2 MB/s eta 0:00:01\n",
      "   ------------------------------------ --- 22.3/24.4 MB 31.1 MB/s eta 0:00:01\n",
      "   -------------------------------------- - 23.5/24.4 MB 31.2 MB/s eta 0:00:01\n",
      "   ---------------------------------------  24.4/24.4 MB 29.7 MB/s eta 0:00:01\n",
      "   ---------------------------------------  24.4/24.4 MB 28.5 MB/s eta 0:00:01\n",
      "   ---------------------------------------- 24.4/24.4 MB 24.2 MB/s eta 0:00:00\n",
      "Downloading ml_dtypes-0.2.0-cp311-cp311-win_amd64.whl (938 kB)\n",
      "   ---------------------------------------- 0.0/938.7 kB ? eta -:--:--\n",
      "   --------------------------------------- 938.7/938.7 kB 30.0 MB/s eta 0:00:00\n",
      "Downloading tensorboard-2.15.1-py3-none-any.whl (5.5 MB)\n",
      "   ---------------------------------------- 0.0/5.5 MB ? eta -:--:--\n",
      "   ------- -------------------------------- 1.0/5.5 MB 33.4 MB/s eta 0:00:01\n",
      "   ------- -------------------------------- 1.0/5.5 MB 33.4 MB/s eta 0:00:01\n",
      "   ------- -------------------------------- 1.0/5.5 MB 33.4 MB/s eta 0:00:01\n",
      "   ------- -------------------------------- 1.0/5.5 MB 33.4 MB/s eta 0:00:01\n",
      "   ------- -------------------------------- 1.0/5.5 MB 33.4 MB/s eta 0:00:01\n",
      "   ---------- ----------------------------- 1.5/5.5 MB 6.4 MB/s eta 0:00:01\n",
      "   ------------------- -------------------- 2.7/5.5 MB 9.7 MB/s eta 0:00:01\n",
      "   ----------------------------- ---------- 4.1/5.5 MB 11.9 MB/s eta 0:00:01\n",
      "   ---------------------------------------  5.4/5.5 MB 14.5 MB/s eta 0:00:01\n",
      "   ---------------------------------------- 5.5/5.5 MB 13.6 MB/s eta 0:00:00\n",
      "Downloading protobuf-4.23.4-cp310-abi3-win_amd64.whl (422 kB)\n",
      "   ---------------------------------------- 0.0/422.5 kB ? eta -:--:--\n",
      "   --------------------------------------- 422.5/422.5 kB 25.8 MB/s eta 0:00:00\n",
      "Downloading tensorflow_estimator-2.15.0-py2.py3-none-any.whl (441 kB)\n",
      "   ---------------------------------------- 0.0/442.0 kB ? eta -:--:--\n",
      "   --------------------------------------- 442.0/442.0 kB 13.9 MB/s eta 0:00:00\n",
      "Downloading wrapt-1.14.1-cp311-cp311-win_amd64.whl (35 kB)\n",
      "Downloading google_auth-2.23.4-py2.py3-none-any.whl (183 kB)\n",
      "   ---------------------------------------- 0.0/183.3 kB ? eta -:--:--\n",
      "   --------------------------------------- 183.3/183.3 kB 10.8 MB/s eta 0:00:00\n",
      "Downloading google_auth_oauthlib-1.1.0-py2.py3-none-any.whl (19 kB)\n",
      "Downloading Markdown-3.5.1-py3-none-any.whl (102 kB)\n",
      "   ---------------------------------------- 0.0/102.2 kB ? eta -:--:--\n",
      "   ---------------------------------------- 102.2/102.2 kB 5.7 MB/s eta 0:00:00\n",
      "Downloading tensorboard_data_server-0.7.2-py3-none-any.whl (2.4 kB)\n",
      "Downloading werkzeug-3.0.1-py3-none-any.whl (226 kB)\n",
      "   ---------------------------------------- 0.0/226.7 kB ? eta -:--:--\n",
      "   --------------------------------------- 226.7/226.7 kB 13.5 MB/s eta 0:00:00\n",
      "Downloading cachetools-5.3.2-py3-none-any.whl (9.3 kB)\n",
      "Downloading pyasn1-0.5.1-py2.py3-none-any.whl (84 kB)\n",
      "   ---------------------------------------- 0.0/84.9 kB ? eta -:--:--\n",
      "   ---------------------------------------- 84.9/84.9 kB 4.7 MB/s eta 0:00:00\n",
      "Installing collected packages: libclang, flatbuffers, wrapt, werkzeug, termcolor, tensorflow-io-gcs-filesystem, tensorflow-estimator, tensorboard-data-server, pyasn1, protobuf, opt-einsum, oauthlib, ml-dtypes, markdown, keras, h5py, grpcio, google-pasta, gast, cachetools, astunparse, absl-py, rsa, requests-oauthlib, pyasn1-modules, google-auth, google-auth-oauthlib, tensorboard, tensorflow-intel, tensorflow\n",
      "Successfully installed absl-py-2.0.0 astunparse-1.6.3 cachetools-5.3.2 flatbuffers-23.5.26 gast-0.5.4 google-auth-2.23.4 google-auth-oauthlib-1.1.0 google-pasta-0.2.0 grpcio-1.59.3 h5py-3.10.0 keras-2.15.0 libclang-16.0.6 markdown-3.5.1 ml-dtypes-0.2.0 oauthlib-3.2.2 opt-einsum-3.3.0 protobuf-4.23.4 pyasn1-0.5.1 pyasn1-modules-0.3.0 requests-oauthlib-1.3.1 rsa-4.9 tensorboard-2.15.1 tensorboard-data-server-0.7.2 tensorflow-2.15.0 tensorflow-estimator-2.15.0 tensorflow-intel-2.15.0 tensorflow-io-gcs-filesystem-0.31.0 termcolor-2.3.0 werkzeug-3.0.1 wrapt-1.14.1\n",
      "Note: you may need to restart the kernel to use updated packages.\n"
     ]
    }
   ],
   "source": [
    "pip install tensorflow"
   ]
  },
  {
   "cell_type": "markdown",
   "metadata": {
    "id": "bgS-HYV4MWn3"
   },
   "source": [
    "Next we will import data and the two different sets of labels and switch to numpy arrays.\n",
    "\n"
   ]
  },
  {
   "cell_type": "code",
   "execution_count": 37,
   "metadata": {
    "id": "NXy1fcB8Mah0"
   },
   "outputs": [],
   "source": [
    "from sklearn import preprocessing\n",
    "import pandas as pd\n",
    "from matplotlib import pyplot as plt\n",
    "from sklearn.metrics import accuracy_score\n",
    "import cinc2022metrics as cm # Our own little metrics file\n",
    "from tensorflow.keras.utils import to_categorical\n",
    "from sklearn.model_selection import train_test_split\n",
    "feats = pd.read_csv('feats.csv', header=None)\n",
    "murmur_labels = pd.read_csv('murmur_labels.csv', header=None)\n",
    "outcome_labels = pd.read_csv('outcome_labels.csv', header=None)\n",
    "\n",
    "feats = feats.to_numpy()\n",
    "\n",
    "murmur_labels = murmur_labels.to_numpy()\n",
    "outcome_labels = outcome_labels.to_numpy()"
   ]
  },
  {
   "cell_type": "markdown",
   "metadata": {
    "id": "M6AjJag6bbYG"
   },
   "source": [
    "Here we will split the data and also define what the different classes for murmur and outcome are."
   ]
  },
  {
   "cell_type": "code",
   "execution_count": 38,
   "metadata": {
    "id": "DYFYliDGNCl0"
   },
   "outputs": [],
   "source": [
    "X_train, X_test, y_train_murmur, y_test_murmur, y_train_outcome, y_test_outcome = train_test_split(feats, murmur_labels, outcome_labels, test_size=0.2, random_state=0)\n",
    "\n",
    "scaler = preprocessing.StandardScaler().fit(X_train)\n",
    "\n",
    "X_train= scaler.transform(X_train)\n",
    "X_test= scaler.transform(X_test)\n",
    "murmur_classes = ['Present', 'Unknown', 'Absent']\n",
    "outcome_classes = ['Abnormal', 'Normal']"
   ]
  },
  {
   "cell_type": "code",
   "execution_count": 39,
   "metadata": {},
   "outputs": [
    {
     "data": {
      "text/plain": [
       "['Abnormal', 'Normal']"
      ]
     },
     "execution_count": 39,
     "metadata": {},
     "output_type": "execute_result"
    }
   ],
   "source": [
    "outcome_classes"
   ]
  },
  {
   "cell_type": "code",
   "execution_count": 40,
   "metadata": {},
   "outputs": [
    {
     "data": {
      "text/plain": [
       "(942, 1)"
      ]
     },
     "execution_count": 40,
     "metadata": {},
     "output_type": "execute_result"
    }
   ],
   "source": [
    "outcome_labels.shape"
   ]
  },
  {
   "cell_type": "code",
   "execution_count": 41,
   "metadata": {},
   "outputs": [
    {
     "data": {
      "text/plain": [
       "[<matplotlib.lines.Line2D at 0x267218c3650>]"
      ]
     },
     "execution_count": 41,
     "metadata": {},
     "output_type": "execute_result"
    },
    {
     "data": {
      "image/png": "[encoded data removed]",
      "text/plain": [
       "<Figure size 640x480 with 1 Axes>"
      ]
     },
     "metadata": {},
     "output_type": "display_data"
    }
   ],
   "source": [
    "import numpy as np \n",
    "XX = np.linspace(0,100,len(feats[25]))\n",
    "yy = feats[0]\n",
    "plt.plot(XX, yy)"
   ]
  },
  {
   "cell_type": "markdown",
   "metadata": {
    "id": "3AaRI3joNGvd"
   },
   "source": [
    "Next you can try out some of the available ensemble methods. Remember you need to predict probabilities for both classifiers."
   ]
  },
  {
   "cell_type": "code",
   "execution_count": 42,
   "metadata": {},
   "outputs": [],
   "source": [
    "data = (X_train , y_train_murmur[:,0], y_train_outcome[:,0] , X_test, y_test_murmur[0,:] , y_test_outcome[0,:])"
   ]
  },
  {
   "cell_type": "code",
   "execution_count": 43,
   "metadata": {},
   "outputs": [
    {
     "data": {
      "text/plain": [
       "['Present', 'Unknown', 'Absent']"
      ]
     },
     "execution_count": 43,
     "metadata": {},
     "output_type": "execute_result"
    }
   ],
   "source": [
    "murmur_classes"
   ]
  },
  {
   "cell_type": "code",
   "execution_count": 74,
   "metadata": {},
   "outputs": [],
   "source": [
    "# from sklearn.model_selection import cross_val_score\n",
    "# from sklearn.datasets import load_iris\n",
    "# from sklearn.ensemble import AdaBoostClassifier\n",
    "# clf = AdaBoostClassifier(n_estimators=10)\n",
    "# scores = cross_val_score(clf, X_train, y_train_murmur[:,0], cv=5)\n",
    "# scores.mean()\n",
    "# clf.fit(y_train_murmur,y_train_murmur[:,0] )\n",
    "\n",
    "# y_pred_murmur_prob = clf.predict_proba(y_test_murmur)\n",
    "# y_test_murmur_bin = to_categorical(y_test_murmur[:,0])\n",
    "\n",
    "\n",
    "import cinc2022metrics as cm \n",
    "\n",
    "class train_and_evaluate():\n",
    "\n",
    "    def __init__(self, clf, data,):\n",
    "        self.clf = clf\n",
    "        self.X_train = data[0]\n",
    "        self.y_train_murmur = data[1]\n",
    "        self.y_train_outcome = data[2]\n",
    "        self.X_test = data[3]\n",
    "        self.y_test_murmur = data[4]\n",
    "        self.y_test_outcome = data[5]\n",
    "\n",
    "    def to_categorical(self ,y):\n",
    "        y_cat = np.zeros( [len(y) , max(y)+1])\n",
    "        for indy , indcat  in enumerate(y):\n",
    "            y_cat[indy , indcat]=1\n",
    "        return y_cat\n",
    "    \n",
    "    def eval(self, print_sc):\n",
    "        self.clf.fit(self.X_train,self.y_train_murmur )  \n",
    "        y_pred_murmur_prob = self.clf.predict_proba(self.X_test)\n",
    "        y_test_murmur_bin = self.to_categorical(self.y_test_murmur)\n",
    "\n",
    "        \n",
    "        self.clf.fit(self.X_train,self.y_train_outcome )\n",
    "        y_pred_outcome_prob = self.clf.predict_proba(self.X_test )\n",
    "        y_test_outcome_bin  = self.to_categorical(self.y_test_outcome)\n",
    "\n",
    "        \n",
    "        murmur_scores, outcome_scores = cm.compute_scores(y_test_murmur_bin,   # One-hot encoded test labels for murmur eg. [1 0 0]\n",
    "                                                  y_pred_murmur_prob,  # One-hot encoded predicted probabilities for murmur eg. [0.1 0.7 0.2]\n",
    "                                                  murmur_classes,      # As defined before\n",
    "                                                  y_test_outcome_bin,  # One-hot encoded test labels for outcome eg. [1 0]\n",
    "                                                  y_pred_outcome_prob, # One-hot encoded predicted probabilities for outcome eg. [0.1 0.9]\n",
    "                                                  outcome_classes)     # As defined before\n",
    "        return (murmur_scores ,outcome_scores)\n",
    "\n"
   ]
  },
  {
   "cell_type": "code",
   "execution_count": 181,
   "metadata": {
    "id": "FT0zGggANGIW"
   },
   "outputs": [
    {
     "name": "stdout",
     "output_type": "stream",
     "text": [
      "0.6247972011492691\n",
      "#Murmur scores\n",
      "AUROC,AUPRC,F-meas,Accuracy,Weighted Accuracy,Cost\n",
      "0.520,0.344,0.277,0.709,0.647,14560.265\n",
      "\n",
      "#Outcome scores\n",
      "AUROC,AUPRC,F-measure,Accuracy,Weighted Accuracy,Cost\n",
      "0.637,0.607,0.617,0.619,0.602,12335.966\n",
      "\n",
      "#Murmur scores (per class)\n",
      "Classes,Present,Unknown,Absent\n",
      "AUROC,0.446,0.523,0.590\n",
      "AUPRC,0.191,0.731,0.110\n",
      "F-measure,0.000,0.832,0.000\n",
      "Accuracy,0.000,0.985,0.000\n",
      "\n",
      "#Outcome scores (per class)\n",
      "Classes,Abnormal,Normal\n",
      "AUROC,0.637,0.637\n",
      "AUPRC,0.581,0.633\n",
      "F-measure,0.586,0.647\n",
      "Accuracy,0.593,0.641\n",
      "\n"
     ]
    }
   ],
   "source": [
    "from sklearn.model_selection import cross_val_score\n",
    "\n",
    "from sklearn.ensemble import AdaBoostClassifier\n",
    "from tqdm import tqdm\n",
    "\n",
    "clf = AdaBoostClassifier(n_estimators=10)\n",
    "data = (X_train , y_train_murmur[:,0], y_train_outcome[:,0] , X_test, y_test_murmur[:,0] , y_test_outcome[:,0])\n",
    "tr_ev = train_and_evaluate(clf, data) \n",
    "murmur_scores ,outcome_scores = tr_ev.eval()\n",
    "mean_score  = (murmur_scores[-2]+outcome_scores[-2])/2\n",
    "#cm.print_scores(murmur_scores , outcome_scores)   \n",
    "print(mean_score)\n",
    "\n",
    "cm.print_scores(murmur_scores ,outcome_scores)\n",
    "# we want to maximize the weighted avrage accuracy "
   ]
  },
  {
   "cell_type": "markdown",
   "metadata": {},
   "source": [
    "# Gradient Boosting"
   ]
  },
  {
   "cell_type": "code",
   "execution_count": 182,
   "metadata": {},
   "outputs": [
    {
     "name": "stderr",
     "output_type": "stream",
     "text": [
      "100%|█████████████████████████████████████████████████████████████████████████████████████████████████████████████████████████████████████████████████████████████████████████████| 19/19 [01:05<00:00,  3.47s/it]\n"
     ]
    }
   ],
   "source": [
    "from sklearn.model_selection import cross_val_score\n",
    "\n",
    "from sklearn.ensemble import GradientBoostingClassifier\n",
    "\n",
    "results = {}\n",
    "for i in tqdm(range(10,200, 10)):\n",
    "    m = []\n",
    "    clf = GradientBoostingClassifier(n_estimators = i)\n",
    "    #data = (X_train , y_train_murmur[:,0], y_train_outcome[:,0] , X_test, y_test_murmur[:,0] , y_test_outcome[:,0])\n",
    "    tr_ev = train_and_evaluate(clf, data) \n",
    "    murmur_scores ,outcome_scores = tr_ev.eval()\n",
    "    mean_score  = (murmur_scores[-2]+outcome_scores[-2])/2\n",
    "    m.append(mean_score)\n",
    "    #cm.print_scores(murmur_scores , outcome_scores)  \n",
    "        \n",
    "    results[i] = np.mean(m)"
   ]
  },
  {
   "cell_type": "code",
   "execution_count": 186,
   "metadata": {},
   "outputs": [
    {
     "data": {
      "text/plain": [
       "{10: 0.6459743861652663,\n",
       " 20: 0.6304257189729088,\n",
       " 30: 0.6323018915807888,\n",
       " 40: 0.6345768641632905,\n",
       " 50: 0.6410180879958187,\n",
       " 60: 0.628283679715281,\n",
       " 70: 0.6324348249056626,\n",
       " 80: 0.6359213034716746,\n",
       " 90: 0.6277519464157852,\n",
       " 100: 0.6289634523992954,\n",
       " 110: 0.622248808887197,\n",
       " 120: 0.626540440432275,\n",
       " 130: 0.6190357500007553,\n",
       " 140: 0.6183559773167409,\n",
       " 150: 0.6108512868852212,\n",
       " 160: 0.617019091038179,\n",
       " 170: 0.6187547772913626,\n",
       " 180: 0.6124615928433532,\n",
       " 190: 0.6329741112349808}"
      ]
     },
     "execution_count": 186,
     "metadata": {},
     "output_type": "execute_result"
    }
   ],
   "source": [
    "results"
   ]
  },
  {
   "cell_type": "code",
   "execution_count": 187,
   "metadata": {},
   "outputs": [
    {
     "name": "stdout",
     "output_type": "stream",
     "text": [
      "0.6247972011492691\n",
      "#Murmur scores\n",
      "AUROC,AUPRC,F-meas,Accuracy,Weighted Accuracy,Cost\n",
      "0.520,0.344,0.277,0.709,0.647,14560.265\n",
      "\n",
      "#Outcome scores\n",
      "AUROC,AUPRC,F-measure,Accuracy,Weighted Accuracy,Cost\n",
      "0.637,0.607,0.617,0.619,0.602,12335.966\n",
      "\n",
      "#Murmur scores (per class)\n",
      "Classes,Present,Unknown,Absent\n",
      "AUROC,0.446,0.523,0.590\n",
      "AUPRC,0.191,0.731,0.110\n",
      "F-measure,0.000,0.832,0.000\n",
      "Accuracy,0.000,0.985,0.000\n",
      "\n",
      "#Outcome scores (per class)\n",
      "Classes,Abnormal,Normal\n",
      "AUROC,0.637,0.637\n",
      "AUPRC,0.581,0.633\n",
      "F-measure,0.586,0.647\n",
      "Accuracy,0.593,0.641\n",
      "\n"
     ]
    }
   ],
   "source": [
    "from sklearn.model_selection import cross_val_score\n",
    "from sklearn.ensemble import AdaBoostClassifier\n",
    "from tqdm import tqdm\n",
    "\n",
    "clf = AdaBoostClassifier(n_estimators=10)\n",
    "data = (X_train , y_train_murmur[:,0], y_train_outcome[:,0] , X_test, y_test_murmur[:,0] , y_test_outcome[:,0])\n",
    "tr_ev = train_and_evaluate(clf, data) \n",
    "murmur_scores ,outcome_scores = tr_ev.eval()\n",
    "mean_score  = (murmur_scores[-2]+outcome_scores[-2])/2\n",
    "#cm.print_scores(murmur_scores , outcome_scores)   \n",
    "print(mean_score)\n",
    "\n",
    "cm.print_scores(murmur_scores ,outcome_scores)\n",
    "# we want to maximize the weighted avrage accuracy "
   ]
  },
  {
   "cell_type": "markdown",
   "metadata": {},
   "source": [
    "### The cost is higher when using the gradient boosting method "
   ]
  },
  {
   "cell_type": "markdown",
   "metadata": {},
   "source": [
    "# Random forest"
   ]
  },
  {
   "cell_type": "code",
   "execution_count": 170,
   "metadata": {},
   "outputs": [
    {
     "name": "stderr",
     "output_type": "stream",
     "text": [
      "100%|█████████████████████████████████████████████████████████████████████████████████████████████████████████████████████████████████████████████████████████████████████████████| 19/19 [01:28<00:00,  4.66s/it]\n"
     ]
    }
   ],
   "source": [
    "from sklearn.ensemble import RandomForestClassifier\n",
    "results = {}\n",
    "for i in tqdm(range(10,200, 10)):\n",
    "    m = []\n",
    "    for j in range(0,5):\n",
    "        clf = RandomForestClassifier(n_estimators = i)\n",
    "        #data = (X_train , y_train_murmur[:,0], y_train_outcome[:,0] , X_test, y_test_murmur[:,0] , y_test_outcome[:,0])\n",
    "        tr_ev = train_and_evaluate(clf, data) \n",
    "        murmur_scores ,outcome_scores = tr_ev.eval()\n",
    "        mean_score  = (murmur_scores[-2]+outcome_scores[-2])/2\n",
    "        m.append(mean_score)\n",
    "        #cm.print_scores(murmur_scores , outcome_scores)  \n",
    "        \n",
    "    results[i] = np.mean(m)"
   ]
  },
  {
   "cell_type": "code",
   "execution_count": 185,
   "metadata": {},
   "outputs": [
    {
     "data": {
      "text/plain": [
       "{10: 0.6459743861652663,\n",
       " 20: 0.6304257189729088,\n",
       " 30: 0.6323018915807888,\n",
       " 40: 0.6345768641632905,\n",
       " 50: 0.6410180879958187,\n",
       " 60: 0.628283679715281,\n",
       " 70: 0.6324348249056626,\n",
       " 80: 0.6359213034716746,\n",
       " 90: 0.6277519464157852,\n",
       " 100: 0.6289634523992954,\n",
       " 110: 0.622248808887197,\n",
       " 120: 0.626540440432275,\n",
       " 130: 0.6190357500007553,\n",
       " 140: 0.6183559773167409,\n",
       " 150: 0.6108512868852212,\n",
       " 160: 0.617019091038179,\n",
       " 170: 0.6187547772913626,\n",
       " 180: 0.6124615928433532,\n",
       " 190: 0.6329741112349808}"
      ]
     },
     "execution_count": 185,
     "metadata": {},
     "output_type": "execute_result"
    }
   ],
   "source": [
    "results"
   ]
  },
  {
   "cell_type": "code",
   "execution_count": 180,
   "metadata": {},
   "outputs": [
    {
     "name": "stdout",
     "output_type": "stream",
     "text": [
      "#Murmur scores\n",
      "AUROC,AUPRC,F-meas,Accuracy,Weighted Accuracy,Cost\n",
      "0.573,0.369,0.278,0.714,0.652,14560.265\n",
      "\n",
      "#Outcome scores\n",
      "AUROC,AUPRC,F-measure,Accuracy,Weighted Accuracy,Cost\n",
      "0.637,0.637,0.640,0.640,0.662,11071.686\n",
      "\n",
      "#Murmur scores (per class)\n",
      "Classes,Present,Unknown,Absent\n",
      "AUROC,0.563,0.579,0.576\n",
      "AUPRC,0.236,0.784,0.088\n",
      "F-measure,0.000,0.833,0.000\n",
      "Accuracy,0.000,0.993,0.000\n",
      "\n",
      "#Outcome scores (per class)\n",
      "Classes,Abnormal,Normal\n",
      "AUROC,0.637,0.637\n",
      "AUPRC,0.620,0.654\n",
      "F-measure,0.630,0.649\n",
      "Accuracy,0.674,0.612\n",
      "\n",
      "0.6572314218125459\n"
     ]
    }
   ],
   "source": [
    "clf = RandomForestClassifier(n_estimators = 180)\n",
    "#data = (X_train , y_train_murmur[:,0], y_train_outcome[:,0] , X_test, y_test_murmur[:,0] , y_test_outcome[:,0])\n",
    "tr_ev = train_and_evaluate(clf, data) \n",
    "murmur_scores ,outcome_scores = tr_ev.eval()\n",
    "mean_score  = (murmur_scores[-2]+outcome_scores[-2])/2\n",
    "cm.print_scores(murmur_scores , outcome_scores)\n",
    "print(mean_score)\n",
    " "
   ]
  },
  {
   "cell_type": "markdown",
   "metadata": {
    "id": "7MzLjkQXb0-d"
   },
   "source": [
    "Now you should also One-hot encode the **test** (not the predicted ones) labels for both murmur and outcome."
   ]
  },
  {
   "cell_type": "code",
   "execution_count": 53,
   "metadata": {
    "id": "E0LHwnQUb0fV"
   },
   "outputs": [],
   "source": []
  },
  {
   "cell_type": "code",
   "execution_count": 54,
   "metadata": {},
   "outputs": [
    {
     "name": "stdout",
     "output_type": "stream",
     "text": [
      "(['Present', 'Unknown', 'Absent'], 0.5197484503971425, 0.344059540679111, array([0.44630872, 0.52268313, 0.5902535 ]), array([0.19058707, 0.7313269 , 0.11026465]), 0.2774327122153209, array([0.        , 0.83229814, 0.        ]), 0.708994708994709, array([0.        , 0.98529412, 0.        ]), 0.6473429951690821, 14560.26455026455)\n"
     ]
    }
   ],
   "source": [
    "print(murmur_scores)"
   ]
  },
  {
   "cell_type": "markdown",
   "metadata": {
    "id": "T91QCcRgcl9T"
   },
   "source": [
    "Now we have calculated a whole bunch of scores for both murmur and outcome. We can print them using the following."
   ]
  },
  {
   "cell_type": "markdown",
   "metadata": {
    "id": "gGczxkWWR50z"
   },
   "source": [
    "Did you manage to comparable scores to those in the leaderboard as shown in the last slide of the lecture? (It should be noted that we don't have the validation data so we are perhaps comparing apples and oranges). Which set of ensemble classifiers worked the best?\n",
    "\n",
    "\n"
   ]
  },
  {
   "cell_type": "markdown",
   "metadata": {
    "id": "E5zNz7eZeSvC"
   },
   "source": [
    "## The End"
   ]
  }
 ],
 "metadata": {
  "colab": {
   "include_colab_link": true,
   "provenance": []
  },
  "kernelspec": {
   "display_name": "Python 3 (ipykernel)",
   "language": "python",
   "name": "python3"
  },
  "language_info": {
   "codemirror_mode": {
    "name": "ipython",
    "version": 3
   },
   "file_extension": ".py",
   "mimetype": "text/x-python",
   "name": "python",
   "nbconvert_exporter": "python",
   "pygments_lexer": "ipython3",
   "version": "3.11.5"
  }
 },
 "nbformat": 4,
 "nbformat_minor": 1
}
